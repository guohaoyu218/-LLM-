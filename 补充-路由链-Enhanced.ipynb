{
 "cells": [
  {
   "cell_type": "markdown",
   "id": "2cf56024",
   "metadata": {},
   "source": [
    "# 路由链增强版 - Router Chain Enhanced\n",
    "\n",
    "参考教程：[路由链](https://datawhalechina.github.io/prompt-engineering-for-developers/#/C3/4.%20%E6%A8%A1%E5%9E%8B%E9%93%BE%20Chains?id=%e5%9b%9b%e3%80%81-%e8%b7%af%e7%94%b1%e9%93%be)\n",
    "\n",
    "## 增强特性\n",
    "- ✅ 保持原版所有功能\n",
    "- ✅ 增加BGE本地嵌入模型示例\n",
    "- ✅ 添加向量相似度路由\n",
    "- ✅ 支持Python 3.11环境\n",
    "- ✅ 改进的错误处理"
   ]
  },
  {
   "cell_type": "markdown",
   "id": "85c40081",
   "metadata": {},
   "source": [
    "## 概念说明\n",
    "\n",
    "想根据输入将其路由到一条链，具体取决于该输入到底是什么。\n",
    "\n",
    "如果你有多个子链，每个子链都专门用于特定类型的输入，那么可以组成一个路由链，它首先决定将它传递给哪个子链，然后将它传递给那个链。"
   ]
  },
  {
   "cell_type": "code",
   "execution_count": 1,
   "id": "a9716037",
   "metadata": {},
   "outputs": [
    {
     "name": "stdout",
     "output_type": "stream",
     "text": [
      "✅ DeepSeek API Key 已配置\n",
      "🚀 路由链使用DeepSeek模型\n"
     ]
    }
   ],
   "source": [
    "# 环境配置\n",
    "from dotenv import load_dotenv, find_dotenv\n",
    "import os\n",
    "\n",
    "load_dotenv(find_dotenv())\n",
    "\n",
    "# 检查DeepSeek配置\n",
    "if os.getenv('DEEPSEEK_API_KEY'):\n",
    "    print(\"✅ DeepSeek API Key 已配置\")\n",
    "    print(\"🚀 路由链使用DeepSeek模型\")\n",
    "else:\n",
    "    print(\"❌ 请在.env文件中配置DEEPSEEK_API_KEY\")\n",
    "    raise ValueError(\"DeepSeek API Key未配置\")"
   ]
  },
  {
   "cell_type": "code",
   "execution_count": null,
   "id": "98dcceda-b915-4dd3-9d51-8b5218d1787c",
   "metadata": {},
   "outputs": [],
   "source": []
  },
  {
   "cell_type": "code",
   "execution_count": null,
   "id": "ef65a71b-115e-40df-8966-acb936d279be",
   "metadata": {},
   "outputs": [],
   "source": []
  },
  {
   "cell_type": "markdown",
   "id": "ec7bf96f",
   "metadata": {},
   "source": [
    "# 导入包"
   ]
  },
  {
   "cell_type": "code",
   "execution_count": 2,
   "id": "b04224ed",
   "metadata": {},
   "outputs": [
    {
     "name": "stdout",
     "output_type": "stream",
     "text": [
      "✅ 所有包导入成功\n"
     ]
    }
   ],
   "source": [
    "from langchain_openai import ChatOpenAI\n",
    "from langchain.chains import LLMChain\n",
    "from langchain.chains.router import MultiPromptChain  # 导入多提示链\n",
    "from langchain.chains.router.llm_router import LLMRouterChain, RouterOutputParser\n",
    "from langchain.prompts import PromptTemplate, ChatPromptTemplate\n",
    "\n",
    "# 增强功能导入\n",
    "from sentence_transformers import SentenceTransformer\n",
    "import numpy as np\n",
    "from sklearn.metrics.pairwise import cosine_similarity\n",
    "import warnings\n",
    "warnings.filterwarnings('ignore')\n",
    "\n",
    "print(\"✅ 所有包导入成功\")"
   ]
  },
  {
   "cell_type": "markdown",
   "id": "1619fced",
   "metadata": {},
   "source": [
    "# 初始化语言模型"
   ]
  },
  {
   "cell_type": "code",
   "execution_count": 3,
   "id": "4e4b57ff",
   "metadata": {},
   "outputs": [
    {
     "name": "stdout",
     "output_type": "stream",
     "text": [
      "🧠 DeepSeek模型初始化完成\n",
      "正在加载BGE嵌入模型...\n",
      "✅ 使用本地BGE模型: C:\\Users\\guohaoyu\\.cache\\huggingface\\hub\\models--BAAI--bge-small-zh-v1.5\\snapshots\\7999e1d3359715c523056ef9478215996d62a620\n"
     ]
    }
   ],
   "source": [
    "# 初始化DeepSeek模型\n",
    "llm = ChatOpenAI(\n",
    "    model=\"deepseek-chat\",\n",
    "    temperature=0,\n",
    "    openai_api_key=os.getenv(\"DEEPSEEK_API_KEY\"),\n",
    "    openai_api_base=\"https://api.deepseek.com\"\n",
    ")\n",
    "\n",
    "print(\"🧠 DeepSeek模型初始化完成\")\n",
    "\n",
    "# 初始化BGE本地嵌入模型（用于增强路由功能）\n",
    "print(\"正在加载BGE嵌入模型...\")\n",
    "try:\n",
    "    if os.getenv('BGE_MODEL_PATH'):\n",
    "        embedding_model = SentenceTransformer(os.getenv('BGE_MODEL_PATH'))\n",
    "        print(f\"✅ 使用本地BGE模型: {os.getenv('BGE_MODEL_PATH')}\")\n",
    "    else:\n",
    "        embedding_model = SentenceTransformer('BAAI/bge-small-zh-v1.5')\n",
    "        print(\"✅ 使用在线BGE模型\")\n",
    "except Exception as e:\n",
    "    print(f\"⚠️ BGE模型加载失败: {e}\")\n",
    "    embedding_model = None"
   ]
  },
  {
   "cell_type": "code",
   "execution_count": null,
   "id": "c65fab63-dbc5-406c-a6ec-f40f456d2ffc",
   "metadata": {},
   "outputs": [],
   "source": []
  },
  {
   "cell_type": "markdown",
   "id": "fd0f369e",
   "metadata": {},
   "source": [
    "# 定义提示模板\n",
    "\n",
    "不同的场景使用不同的提示模板"
   ]
  },
  {
   "cell_type": "code",
   "execution_count": 4,
   "id": "3399b184",
   "metadata": {},
   "outputs": [
    {
     "name": "stdout",
     "output_type": "stream",
     "text": [
      "✅ 提示模板定义完成\n"
     ]
    }
   ],
   "source": [
    "# 中文提示模板\n",
    "# 第一个提示适合回答物理问题\n",
    "physics_template = \"\"\"你是一个非常聪明的物理专家。\\\n",
    "你擅长用一种简洁并且易于理解的方式去回答问题。\\\n",
    "当你不知道问题的答案时，你承认\\\n",
    "你不知道.\n",
    "\n",
    "这是一个问题:\n",
    "{input}\"\"\"\n",
    "\n",
    "# 第二个提示适合回答数学问题\n",
    "math_template = \"\"\"你是一个非常优秀的数学家。\\\n",
    "你擅长回答数学问题。\\\n",
    "你之所以如此优秀，\\\n",
    "是因为你能够将棘手的问题分解为组成部分，\\\n",
    "回答组成部分，然后将它们组合在一起，回答更广泛的问题。\n",
    "\n",
    "这是一个问题：\n",
    "{input}\"\"\"\n",
    "\n",
    "# 第三个适合回答历史问题\n",
    "history_template = \"\"\"你是以为非常优秀的历史学家。\\\n",
    "你对一系列历史时期的人物、事件和背景有着极好的学识和理解\\\n",
    "你有能力思考、反思、辩证、讨论和评估过去。\\\n",
    "你尊重历史证据，并有能力利用它来支持你的解释和判断。\n",
    "\n",
    "这是一个问题:\n",
    "{input}\"\"\"\n",
    "\n",
    "# 第四个适合回答计算机问题\n",
    "computerscience_template = \"\"\"你是一个成功的计算机科学专家。\\\n",
    "你有创造力、协作精神、\\\n",
    "前瞻性思维、自信、解决问题的能力、\\\n",
    "对理论和算法的理解以及出色的沟通技巧。\\\n",
    "你非常擅长回答编程问题。\\\n",
    "你之所以如此优秀，是因为你知道\\\n",
    "如何通过以机器可以轻松解释的命令式步骤描述解决方案来解决问题，\\\n",
    "并且你知道如何选择在时间复杂性和空间复杂性之间取得良好平衡的解决方案。\n",
    "\n",
    "这还是一个输入：\n",
    "{input}\"\"\"\n",
    "\n",
    "# 增强版：添加AI/机器学习专门模板\n",
    "ai_template = \"\"\"你是一个机器学习和人工智能专家。\\\n",
    "你对深度学习、自然语言处理、计算机视觉等AI技术有深入理解。\\\n",
    "你能够清晰地解释复杂的AI概念，并提供实用的技术建议。\\\n",
    "你关注最新的AI发展趋势和技术进展。\n",
    "\n",
    "这是一个问题：\n",
    "{input}\"\"\"\n",
    "\n",
    "print(\"✅ 提示模板定义完成\")"
   ]
  },
  {
   "cell_type": "code",
   "execution_count": null,
   "id": "f178f161-559b-43e1-a1bf-73d0d2cc968c",
   "metadata": {},
   "outputs": [],
   "source": []
  },
  {
   "cell_type": "markdown",
   "id": "53543617",
   "metadata": {},
   "source": [
    "在定义了这些提示模板后，我们可以为每个模板命名，并给出具体描述。例如，第一个物理学的描述适合回答关于物理学的问题，这些信息将传递给路由链，然后由路由链决定何时使用此子链。"
   ]
  },
  {
   "cell_type": "code",
   "execution_count": 5,
   "id": "c1203484",
   "metadata": {},
   "outputs": [
    {
     "name": "stdout",
     "output_type": "stream",
     "text": [
      "✅ 定义了 5 个专业领域模板\n"
     ]
    }
   ],
   "source": [
    "# 中文 - 增强版包含AI模板\n",
    "prompt_infos = [\n",
    "    {\n",
    "        \"名字\": \"物理学\", \n",
    "        \"描述\": \"擅长回答关于物理学的问题\", \n",
    "        \"提示模板\": physics_template,\n",
    "        \"关键词\": [\"物理\", \"力学\", \"热学\", \"电磁学\", \"光学\", \"量子\", \"相对论\", \"黑体辐射\", \"波粒二象性\"]\n",
    "    },\n",
    "    {\n",
    "        \"名字\": \"数学\", \n",
    "        \"描述\": \"擅长回答数学问题\", \n",
    "        \"提示模板\": math_template,\n",
    "        \"关键词\": [\"数学\", \"代数\", \"几何\", \"微积分\", \"统计\", \"概率\", \"方程\", \"函数\", \"矩阵\"]\n",
    "    },\n",
    "    {\n",
    "        \"名字\": \"历史\", \n",
    "        \"描述\": \"擅长回答历史问题\", \n",
    "        \"提示模板\": history_template,\n",
    "        \"关键词\": [\"历史\", \"古代\", \"近代\", \"现代\", \"朝代\", \"战争\", \"文化\", \"政治\", \"社会\"]\n",
    "    },\n",
    "    {\n",
    "        \"名字\": \"计算机科学\", \n",
    "        \"描述\": \"擅长回答计算机科学问题\", \n",
    "        \"提示模板\": computerscience_template,\n",
    "        \"关键词\": [\"编程\", \"算法\", \"数据结构\", \"软件工程\", \"数据库\", \"网络\", \"操作系统\", \"Python\", \"Java\"]\n",
    "    },\n",
    "    {\n",
    "        \"名字\": \"人工智能\", \n",
    "        \"描述\": \"擅长回答AI和机器学习问题\", \n",
    "        \"提示模板\": ai_template,\n",
    "        \"关键词\": [\"机器学习\", \"深度学习\", \"神经网络\", \"自然语言处理\", \"计算机视觉\", \"AI\", \"人工智能\", \"模型训练\"]\n",
    "    }\n",
    "]\n",
    "\n",
    "print(f\"✅ 定义了 {len(prompt_infos)} 个专业领域模板\")"
   ]
  },
  {
   "cell_type": "code",
   "execution_count": null,
   "id": "fdc07617-c460-4ff1-a154-7c3de7721919",
   "metadata": {},
   "outputs": [],
   "source": []
  },
  {
   "cell_type": "markdown",
   "id": "733d3bb0",
   "metadata": {},
   "source": [
    "# 创建子链（LLMChain）\n",
    "\n",
    "子链是由路由链调用的链，每个子链都是一个语言模型链（LLMChain）"
   ]
  },
  {
   "cell_type": "code",
   "execution_count": 6,
   "id": "9929988d",
   "metadata": {},
   "outputs": [
    {
     "name": "stdout",
     "output_type": "stream",
     "text": [
      "✅ 创建了 5 个目标链\n",
      "\n",
      "目标链列表:\n",
      "  - 物理学: 擅长回答关于物理学的问题\n",
      "  - 数学: 擅长回答数学问题\n",
      "  - 历史: 擅长回答历史问题\n",
      "  - 计算机科学: 擅长回答计算机科学问题\n",
      "  - 人工智能: 擅长回答AI和机器学习问题\n"
     ]
    }
   ],
   "source": [
    "destination_chains = {}\n",
    "for p_info in prompt_infos:\n",
    "    name = p_info[\"名字\"]\n",
    "    prompt_template = p_info[\"提示模板\"]\n",
    "    prompt = ChatPromptTemplate.from_template(template=prompt_template)\n",
    "    chain = LLMChain(llm=llm, prompt=prompt)\n",
    "    destination_chains[name] = chain  \n",
    "    \n",
    "destinations = [f\"{p['名字']}: {p['描述']}\" for p in prompt_infos]\n",
    "destinations_str = \"\\n\".join(destinations)\n",
    "\n",
    "print(f\"✅ 创建了 {len(destination_chains)} 个目标链\")\n",
    "print(\"\\n目标链列表:\")\n",
    "for dest in destinations:\n",
    "    print(f\"  - {dest}\")"
   ]
  },
  {
   "cell_type": "code",
   "execution_count": null,
   "id": "ff105c58-a557-4ac1-a86e-d9a2bdb5645b",
   "metadata": {},
   "outputs": [],
   "source": []
  },
  {
   "cell_type": "code",
   "execution_count": 7,
   "id": "fd60d658",
   "metadata": {},
   "outputs": [
    {
     "name": "stdout",
     "output_type": "stream",
     "text": [
      "Destination Chains:\n",
      "  物理学: LLMChain\n",
      "  数学: LLMChain\n",
      "  历史: LLMChain\n",
      "  计算机科学: LLMChain\n",
      "  人工智能: LLMChain\n"
     ]
    }
   ],
   "source": [
    "# 查看destination_chains\n",
    "print(\"Destination Chains:\")\n",
    "for name, chain in destination_chains.items():\n",
    "    print(f\"  {name}: {type(chain).__name__}\")"
   ]
  },
  {
   "cell_type": "code",
   "execution_count": null,
   "id": "0e30d8c4-6ed0-45c9-a0ad-609721b7a956",
   "metadata": {},
   "outputs": [],
   "source": []
  },
  {
   "cell_type": "code",
   "execution_count": 8,
   "id": "3540713a",
   "metadata": {},
   "outputs": [
    {
     "name": "stdout",
     "output_type": "stream",
     "text": [
      "Destinations:\n",
      "['物理学: 擅长回答关于物理学的问题', '数学: 擅长回答数学问题', '历史: 擅长回答历史问题', '计算机科学: 擅长回答计算机科学问题', '人工智能: 擅长回答AI和机器学习问题']\n"
     ]
    }
   ],
   "source": [
    "# 查看destinations\n",
    "print(\"Destinations:\")\n",
    "print(destinations)"
   ]
  },
  {
   "cell_type": "code",
   "execution_count": null,
   "id": "d339938f-d12c-4f0a-baf6-3dd516b6c1ce",
   "metadata": {},
   "outputs": [],
   "source": []
  },
  {
   "cell_type": "code",
   "execution_count": 9,
   "id": "2b3e1e37",
   "metadata": {},
   "outputs": [
    {
     "name": "stdout",
     "output_type": "stream",
     "text": [
      "Destinations String:\n",
      "物理学: 擅长回答关于物理学的问题\n",
      "数学: 擅长回答数学问题\n",
      "历史: 擅长回答历史问题\n",
      "计算机科学: 擅长回答计算机科学问题\n",
      "人工智能: 擅长回答AI和机器学习问题\n"
     ]
    }
   ],
   "source": [
    "# 查看destinations_str\n",
    "print(\"Destinations String:\")\n",
    "print(destinations_str)"
   ]
  },
  {
   "cell_type": "code",
   "execution_count": null,
   "id": "7c1fd186-b5d0-4d62-8392-fb300fb31884",
   "metadata": {},
   "outputs": [],
   "source": []
  },
  {
   "cell_type": "markdown",
   "id": "c69cde24",
   "metadata": {},
   "source": [
    "# 创建默认子链（LLMChain）\n",
    "\n",
    "除了目标链之外，我们还需要一个默认目标链。这是一个当路由器无法决定使用哪个子链时调用的链。在上面的示例中，当输入问题与物理、数学、历史或计算机科学无关时，可能会调用它。"
   ]
  },
  {
   "cell_type": "code",
   "execution_count": 10,
   "id": "0c2c841b",
   "metadata": {},
   "outputs": [
    {
     "name": "stdout",
     "output_type": "stream",
     "text": [
      "✅ 默认链创建完成\n"
     ]
    }
   ],
   "source": [
    "default_prompt = ChatPromptTemplate.from_template(\"{input}\")\n",
    "default_chain = LLMChain(llm=llm, prompt=default_prompt)\n",
    "\n",
    "print(\"✅ 默认链创建完成\")"
   ]
  },
  {
   "cell_type": "code",
   "execution_count": null,
   "id": "62656a56-88e5-48d3-a3bc-198efd9cdf51",
   "metadata": {},
   "outputs": [],
   "source": []
  },
  {
   "cell_type": "code",
   "execution_count": 11,
   "id": "aca3a53e",
   "metadata": {},
   "outputs": [
    {
     "name": "stdout",
     "output_type": "stream",
     "text": [
      "Default Chain: LLMChain\n"
     ]
    }
   ],
   "source": [
    "# 查看default_chain\n",
    "print(f\"Default Chain: {type(default_chain).__name__}\")"
   ]
  },
  {
   "cell_type": "code",
   "execution_count": null,
   "id": "561ddfda-c42a-48cb-bf6c-f70a550f506e",
   "metadata": {},
   "outputs": [],
   "source": []
  },
  {
   "cell_type": "markdown",
   "id": "0ee348dd",
   "metadata": {},
   "source": [
    "# 定义不同链之间的路由模板\n",
    "\n",
    "这包括要完成的任务的说明以及输出应该采用的特定格式。"
   ]
  },
  {
   "cell_type": "code",
   "execution_count": 12,
   "id": "246d81b7",
   "metadata": {},
   "outputs": [
    {
     "name": "stdout",
     "output_type": "stream",
     "text": [
      "✅ 路由模板定义完成\n"
     ]
    }
   ],
   "source": [
    "# 多提示路由模板\n",
    "MULTI_PROMPT_ROUTER_TEMPLATE = \"\"\"给语言模型一个原始文本输入，\\\n",
    "让其选择最适合输入的模型提示。\\\n",
    "系统将为您提供可用提示的名称以及最适合改提示的描述。\\\n",
    "如果你认为修改原始输入最终会导致语言模型做出更好的响应，\\\n",
    "你也可以修改原始输入。\n",
    "\n",
    "<< 格式 >>\n",
    "返回一个带有JSON对象的markdown代码片段，该JSON对象的格式如下：\n",
    "```json\n",
    "{{{{\n",
    "    \"destination\": 字符串 \\ 使用的提示名字或者使用 \"DEFAULT\"\n",
    "    \"next_inputs\": 字符串 \\ 原始输入的改进版本\n",
    "}}}}\n",
    "```\n",
    "\n",
    "记住：\"destination\"必须是下面指定的候选提示名称之一，\\\n",
    "或者如果输入不太适合任何候选提示，\\\n",
    "则可以是 \"DEFAULT\" 。\n",
    "记住：如果您认为不需要任何修改，\\\n",
    "则 \"next_inputs\" 可以只是原始输入。\n",
    "\n",
    "<< 候选提示 >>\n",
    "{destinations}\n",
    "\n",
    "<< 输入 >>\n",
    "{{input}}\n",
    "\n",
    "<< 输出 (记得要包含 ```json)>>\n",
    "\n",
    "样例:\n",
    "<< 输入 >>\n",
    "\"什么是黑体辐射?\"\n",
    "<< 输出 >>\n",
    "```json\n",
    "{{{{\n",
    "    \"destination\": \"物理学\",\n",
    "    \"next_inputs\": \"什么是黑体辐射?\"\n",
    "}}}}\n",
    "```\n",
    "\"\"\"\n",
    "\n",
    "print(\"✅ 路由模板定义完成\")"
   ]
  },
  {
   "cell_type": "code",
   "execution_count": null,
   "id": "9ed12508-99a9-4494-9570-fbfd177047ab",
   "metadata": {},
   "outputs": [],
   "source": []
  },
  {
   "cell_type": "code",
   "execution_count": 13,
   "id": "c5f02025",
   "metadata": {},
   "outputs": [
    {
     "name": "stdout",
     "output_type": "stream",
     "text": [
      "✅ 路由提示创建完成\n"
     ]
    }
   ],
   "source": [
    "router_template = MULTI_PROMPT_ROUTER_TEMPLATE.format(\n",
    "    destinations=destinations_str\n",
    ")\n",
    "router_prompt = PromptTemplate(\n",
    "    template=router_template,\n",
    "    input_variables=[\"input\"],\n",
    "    output_parser=RouterOutputParser(),\n",
    ")\n",
    "\n",
    "print(\"✅ 路由提示创建完成\")"
   ]
  },
  {
   "cell_type": "code",
   "execution_count": null,
   "id": "5d5aff64-cd33-4881-ad16-f5f5c5fefade",
   "metadata": {},
   "outputs": [],
   "source": []
  },
  {
   "cell_type": "code",
   "execution_count": 14,
   "id": "8a1e4e51",
   "metadata": {
    "collapsed": true,
    "jupyter": {
     "outputs_hidden": true
    }
   },
   "outputs": [
    {
     "name": "stdout",
     "output_type": "stream",
     "text": [
      "Router Prompt:\n",
      "input_variables=['input'] input_types={} output_parser=RouterOutputParser() partial_variables={} template='给语言模型一个原始文本输入，让其选择最适合输入的模型提示。系统将为您提供可用提示的名称以及最适合改提示的描述。如果你认为修改原始输入最终会导致语言模型做出更好的响应，你也可以修改原始输入。\\n\\n<< 格式 >>\\n返回一个带有JSON对象的markdown代码片段，该JSON对象的格式如下：\\n```json\\n{{\\n    \"destination\": 字符串 \\\\ 使用的提示名字或者使用 \"DEFAULT\"\\n    \"next_inputs\": 字符串 \\\\ 原始输入的改进版本\\n}}\\n```\\n\\n记住：\"destination\"必须是下面指定的候选提示名称之一，或者如果输入不太适合任何候选提示，则可以是 \"DEFAULT\" 。\\n记住：如果您认为不需要任何修改，则 \"next_inputs\" 可以只是原始输入。\\n\\n<< 候选提示 >>\\n物理学: 擅长回答关于物理学的问题\\n数学: 擅长回答数学问题\\n历史: 擅长回答历史问题\\n计算机科学: 擅长回答计算机科学问题\\n人工智能: 擅长回答AI和机器学习问题\\n\\n<< 输入 >>\\n{input}\\n\\n<< 输出 (记得要包含 ```json)>>\\n\\n样例:\\n<< 输入 >>\\n\"什么是黑体辐射?\"\\n<< 输出 >>\\n```json\\n{{\\n    \"destination\": \"物理学\",\\n    \"next_inputs\": \"什么是黑体辐射?\"\\n}}\\n```\\n'\n"
     ]
    }
   ],
   "source": [
    "# 查看router_prompt\n",
    "print(\"Router Prompt:\")\n",
    "print(router_prompt)"
   ]
  },
  {
   "cell_type": "code",
   "execution_count": null,
   "id": "473045a5-17cf-4326-8146-35c926df1516",
   "metadata": {},
   "outputs": [],
   "source": []
  },
  {
   "cell_type": "code",
   "execution_count": 15,
   "id": "51bd3305",
   "metadata": {
    "collapsed": true,
    "jupyter": {
     "outputs_hidden": true
    },
    "scrolled": true
   },
   "outputs": [
    {
     "name": "stdout",
     "output_type": "stream",
     "text": [
      "完整路由模板:\n",
      "==================================================\n",
      "给语言模型一个原始文本输入，让其选择最适合输入的模型提示。系统将为您提供可用提示的名称以及最适合改提示的描述。如果你认为修改原始输入最终会导致语言模型做出更好的响应，你也可以修改原始输入。\n",
      "\n",
      "<< 格式 >>\n",
      "返回一个带有JSON对象的markdown代码片段，该JSON对象的格式如下：\n",
      "```json\n",
      "{{\n",
      "    \"destination\": 字符串 \\ 使用的提示名字或者使用 \"DEFAULT\"\n",
      "    \"next_inputs\": 字符串 \\ 原始输入的改进版本\n",
      "}}\n",
      "```\n",
      "\n",
      "记住：\"destination\"必须是下面指定的候选提示名称之一，或者如果输入不太适合任何候选提示，则可以是 \"DEFAULT\" 。\n",
      "记住：如果您认为不需要任何修改，则 \"next_inputs\" 可以只是原始输入。\n",
      "\n",
      "<< 候选提示 >>\n",
      "物理学: 擅长回答关于物理学的问题\n",
      "数学: 擅长回答数学问题\n",
      "历史: 擅长回答历史问题\n",
      "计算机科学: 擅长回答计算机科学问题\n",
      "人工智能: 擅长回答AI和机器学习问题\n",
      "\n",
      "<< 输入 >>\n",
      "{input}\n",
      "\n",
      "<< 输出 (记得要包含 ```json)>>\n",
      "\n",
      "样例:\n",
      "<< 输入 >>\n",
      "\"什么是黑体辐射?\"\n",
      "<< 输出 >>\n",
      "```json\n",
      "{{\n",
      "    \"destination\": \"物理学\",\n",
      "    \"next_inputs\": \"什么是黑体辐射?\"\n",
      "}}\n",
      "```\n",
      "\n",
      "==================================================\n"
     ]
    }
   ],
   "source": [
    "# 查看完整的路由模板\n",
    "print(\"完整路由模板:\")\n",
    "print(\"=\" * 50)\n",
    "print(router_prompt.template)\n",
    "print(\"=\" * 50)"
   ]
  },
  {
   "cell_type": "code",
   "execution_count": null,
   "id": "d2bb2f4c-b475-4937-9383-d1f11eb35bf2",
   "metadata": {},
   "outputs": [],
   "source": []
  },
  {
   "cell_type": "markdown",
   "id": "8e121604",
   "metadata": {},
   "source": [
    "# 创建路由链（LLMRouterChain）"
   ]
  },
  {
   "cell_type": "code",
   "execution_count": 16,
   "id": "582089da",
   "metadata": {},
   "outputs": [
    {
     "name": "stdout",
     "output_type": "stream",
     "text": [
      "✅ 路由链创建完成\n"
     ]
    }
   ],
   "source": [
    "router_chain = LLMRouterChain.from_llm(llm, router_prompt)\n",
    "\n",
    "print(\"✅ 路由链创建完成\")"
   ]
  },
  {
   "cell_type": "code",
   "execution_count": null,
   "id": "bf88bb25-a921-4ab9-875a-e06aa29a50b2",
   "metadata": {},
   "outputs": [],
   "source": []
  },
  {
   "cell_type": "markdown",
   "id": "0e9728e1",
   "metadata": {},
   "source": [
    "# 创建整体链路"
   ]
  },
  {
   "cell_type": "code",
   "execution_count": 17,
   "id": "7e98dd50",
   "metadata": {},
   "outputs": [
    {
     "name": "stdout",
     "output_type": "stream",
     "text": [
      "✅ 多提示链创建完成\n"
     ]
    }
   ],
   "source": [
    "# 多提示链\n",
    "chain = MultiPromptChain(\n",
    "    router_chain=router_chain,              # 路由链路\n",
    "    destination_chains=destination_chains,   # 目标链路\n",
    "    default_chain=default_chain,            # 默认链路\n",
    "    verbose=True   \n",
    ")\n",
    "\n",
    "print(\"✅ 多提示链创建完成\")"
   ]
  },
  {
   "cell_type": "code",
   "execution_count": null,
   "id": "426a31b5-2f10-4a99-972a-0e0c2c5d48cb",
   "metadata": {},
   "outputs": [],
   "source": []
  },
  {
   "cell_type": "markdown",
   "id": "b42c11c4",
   "metadata": {},
   "source": [
    "# 增强功能：基于向量相似度的智能路由\n",
    "\n",
    "使用BGE模型进行语义相似度计算，辅助路由决策"
   ]
  },
  {
   "cell_type": "code",
   "execution_count": 18,
   "id": "482a600c",
   "metadata": {},
   "outputs": [
    {
     "name": "stdout",
     "output_type": "stream",
     "text": [
      "✅ 增强路由功能定义完成\n"
     ]
    }
   ],
   "source": [
    "def enhanced_routing_prediction(query, threshold=0.6):\n",
    "    \"\"\"\n",
    "    使用BGE模型进行语义相似度路由预测\n",
    "    \n",
    "    Args:\n",
    "        query: 输入查询\n",
    "        threshold: 相似度阈值\n",
    "    \n",
    "    Returns:\n",
    "        推荐的路由和置信度\n",
    "    \"\"\"\n",
    "    # 获取查询的嵌入向量\n",
    "    query_embedding = embedding_model.encode([query])\n",
    "    \n",
    "    best_match = None\n",
    "    best_score = 0\n",
    "    scores = {}\n",
    "    \n",
    "    # 计算与各个领域关键词的相似度\n",
    "    for p_info in prompt_infos:\n",
    "        domain_name = p_info[\"名字\"]\n",
    "        keywords = p_info[\"关键词\"]\n",
    "        \n",
    "        # 计算与所有关键词的平均相似度\n",
    "        keyword_embeddings = embedding_model.encode(keywords)\n",
    "        similarities = cosine_similarity(query_embedding, keyword_embeddings)[0]\n",
    "        avg_similarity = np.mean(similarities)\n",
    "        max_similarity = np.max(similarities)\n",
    "        \n",
    "        # 使用加权分数（平均相似度 * 0.4 + 最大相似度 * 0.6）\n",
    "        weighted_score = avg_similarity * 0.4 + max_similarity * 0.6\n",
    "        scores[domain_name] = {\n",
    "            'weighted_score': weighted_score,\n",
    "            'avg_similarity': avg_similarity,\n",
    "            'max_similarity': max_similarity,\n",
    "            'best_keyword': keywords[np.argmax(similarities)]\n",
    "        }\n",
    "        \n",
    "        if weighted_score > best_score:\n",
    "            best_score = weighted_score\n",
    "            best_match = domain_name\n",
    "    \n",
    "    # 返回预测结果\n",
    "    prediction = {\n",
    "        'recommended_domain': best_match if best_score > threshold else 'DEFAULT',\n",
    "        'confidence': best_score,\n",
    "        'all_scores': scores,\n",
    "        'threshold_met': best_score > threshold\n",
    "    }\n",
    "    \n",
    "    return prediction\n",
    "\n",
    "print(\"✅ 增强路由功能定义完成\")"
   ]
  },
  {
   "cell_type": "code",
   "execution_count": null,
   "id": "daa04914-c0b5-4c04-82dc-9630dab1e604",
   "metadata": {},
   "outputs": [],
   "source": []
  },
  {
   "cell_type": "markdown",
   "id": "0d97c9b5",
   "metadata": {},
   "source": [
    "# 进行提问测试"
   ]
  },
  {
   "cell_type": "code",
   "execution_count": 19,
   "id": "2758a972",
   "metadata": {
    "collapsed": true,
    "jupyter": {
     "outputs_hidden": true
    },
    "scrolled": true
   },
   "outputs": [
    {
     "name": "stdout",
     "output_type": "stream",
     "text": [
      "🔍 问题: 什么是黑体辐射？\n",
      "\n",
      "=== 增强路由预测 ===\n",
      "推荐领域: 物理学\n",
      "置信度: 0.6926\n",
      "是否满足阈值: True\n",
      "\n",
      "=== 传统路由结果 ===\n",
      "\n",
      "\n",
      "\u001b[1m> Entering new MultiPromptChain chain...\u001b[0m\n",
      "物理学: {'input': '什么是黑体辐射？'}\n",
      "\u001b[1m> Finished chain.\u001b[0m\n",
      "\n",
      "答案: **黑体辐射**是理想化的“黑体”（能吸收所有入射电磁辐射的物体）因自身温度而发出的电磁辐射。其关键特性如下：\n",
      "\n",
      "1. **普适性**：辐射谱仅取决于黑体的温度，与材料无关。  \n",
      "2. **实验现象**：高温物体（如铁块）加热时会先发红光，后变白炽，说明辐射随温度升高向短波移动。  \n",
      "3. **经典理论的失败**：  \n",
      "   - 瑞利-金斯公式在长波区匹配实验，但短波（紫外）区预言能量无限大（“紫外灾难”）。  \n",
      "   - 维恩公式仅适用于短波，与长波实验不符。  \n",
      "\n",
      "4. **普朗克的突破（1900年）**：  \n",
      "   - 提出能量量子化假设：辐射能量以“量子” \\(E = h\\nu\\) 为单位发射（\\(h\\)为普朗克常数）。  \n",
      "   - 导出普朗克公式，完美拟合所有实验数据，**开创量子物理**。  \n",
      "\n",
      "**意义**：黑体辐射研究直接揭示了经典物理的局限性，为量子力学奠基。\n"
     ]
    }
   ],
   "source": [
    "# 测试物理问题\n",
    "physics_query = \"什么是黑体辐射？\"\n",
    "\n",
    "print(f\"🔍 问题: {physics_query}\")\n",
    "print(\"\\n=== 增强路由预测 ===\")\n",
    "prediction = enhanced_routing_prediction(physics_query)\n",
    "print(f\"推荐领域: {prediction['recommended_domain']}\")\n",
    "print(f\"置信度: {prediction['confidence']:.4f}\")\n",
    "print(f\"是否满足阈值: {prediction['threshold_met']}\")\n",
    "\n",
    "print(\"\\n=== 传统路由结果 ===\")\n",
    "result = chain.run(physics_query)\n",
    "print(f\"\\n答案: {result}\")"
   ]
  },
  {
   "cell_type": "code",
   "execution_count": null,
   "id": "cac72baa-14ff-4832-95d2-8b2c79fd16d5",
   "metadata": {},
   "outputs": [],
   "source": []
  },
  {
   "cell_type": "code",
   "execution_count": null,
   "id": "44aafb80",
   "metadata": {},
   "outputs": [],
   "source": [
    "# 测试数学问题\n",
    "math_query = \"2+2等于多少？\"\n",
    "\n",
    "print(f\"🔍 问题: {math_query}\")\n",
    "print(\"\\n=== 增强路由预测 ===\")\n",
    "prediction = enhanced_routing_prediction(math_query)\n",
    "print(f\"推荐领域: {prediction['recommended_domain']}\")\n",
    "print(f\"置信度: {prediction['confidence']:.4f}\")\n",
    "\n",
    "print(\"\\n=== 传统路由结果 ===\")\n",
    "result = chain.run(math_query)\n",
    "print(f\"\\n答案: {result}\")"
   ]
  },
  {
   "cell_type": "code",
   "execution_count": 20,
   "id": "5184e7da",
   "metadata": {
    "collapsed": true,
    "jupyter": {
     "outputs_hidden": true
    },
    "scrolled": true
   },
   "outputs": [
    {
     "name": "stdout",
     "output_type": "stream",
     "text": [
      "🔍 问题: 为什么我们身体里的每个细胞都包含DNA？\n",
      "\n",
      "=== 增强路由预测 ===\n",
      "推荐领域: DEFAULT\n",
      "置信度: 0.3491\n",
      "\n",
      "=== 传统路由结果 ===\n",
      "\n",
      "\n",
      "\u001b[1m> Entering new MultiPromptChain chain...\u001b[0m\n",
      "None: {'input': '为什么我们身体里的每个细胞都包含DNA？'}\n",
      "\u001b[1m> Finished chain.\u001b[0m\n",
      "\n",
      "答案: 我们身体里的每个细胞都包含DNA，主要是因为DNA承载了维持生命和细胞功能所必需的全部遗传指令。以下是具体原因和机制的分点解释：\n",
      "\n",
      "---\n",
      "\n",
      "### 1. **DNA是遗传信息的载体**\n",
      "   - **遗传蓝图**：DNA分子编码了构建和维持生物体所需的所有蛋白质和RNA分子的信息。每个细胞都需要这些指令来执行其特定功能（如肌肉收缩、神经信号传递等）。\n",
      "   - **基因表达调控**：虽然所有细胞的DNA相同，但不同细胞通过选择性表达特定基因（如肝细胞表达肝脏相关基因，神经元表达神经相关基因）来分化成不同类型。\n",
      "\n",
      "---\n",
      "\n",
      "### 2. **细胞分裂与增殖的需要**\n",
      "   - **复制与传递**：当细胞分裂（有丝分裂或减数分裂）时，DNA会被精确复制，确保子细胞获得完整的遗传信息。若DNA缺失，新细胞将无法正常运作。\n",
      "   - **修复与维护**：DNA还包含修复损伤的机制，这对细胞长期存活至关重要。\n",
      "\n",
      "---\n",
      "\n",
      "### 3. **细胞功能的自主性**\n",
      "   - **独立运作**：即使细胞属于多细胞生物，每个细胞仍需独立完成代谢、能量生产等基本生命活动。这些过程依赖DNA编码的酶和蛋白质。\n",
      "   - **响应环境**：细胞需要根据内外环境变化（如激素信号、应激反应）调整基因表达，这需要DNA的实时“指令库”。\n",
      "\n",
      "---\n",
      "\n",
      "### 4. **例外情况**\n",
      "   - **成熟红细胞**：哺乳动物的成熟红细胞为腾出空间携带血红蛋白，会排出细胞核和DNA，但其他细胞均保留DNA。\n",
      "   - **血小板和角质细胞**：血小板无细胞核；皮肤表层的角质细胞虽含DNA但已凋亡，属特例。\n",
      "\n",
      "---\n",
      "\n",
      "### 5. **进化优势**\n",
      "   - **稳定性与适应性**：DNA的双螺旋结构和纠错机制使遗传信息稳定传递，同时允许突变积累推动进化。\n",
      "   - **统一性**：所有细胞共享同一套DNA，确保多细胞生物各组织协调运作。\n",
      "\n",
      "---\n",
      "\n",
      "### 总结\n",
      "DNA在细胞中的普遍存在是生命的基本设计——它既是“操作手册”，又是“维修工具”。没有DNA，细胞将失去功能、无法增殖或适应环境，最终导致生物体崩溃。这一机制是数十亿年进化形成的高效解决方案。\n"
     ]
    }
   ],
   "source": [
    "# 测试生物问题（应该路由到默认链）\n",
    "bio_query = \"为什么我们身体里的每个细胞都包含DNA？\"\n",
    "\n",
    "print(f\"🔍 问题: {bio_query}\")\n",
    "print(\"\\n=== 增强路由预测 ===\")\n",
    "prediction = enhanced_routing_prediction(bio_query)\n",
    "print(f\"推荐领域: {prediction['recommended_domain']}\")\n",
    "print(f\"置信度: {prediction['confidence']:.4f}\")\n",
    "\n",
    "print(\"\\n=== 传统路由结果 ===\")\n",
    "result = chain.run(bio_query)\n",
    "print(f\"\\n答案: {result}\")"
   ]
  },
  {
   "cell_type": "code",
   "execution_count": null,
   "id": "8d58138c-8e30-45cf-93ae-ee55b430cc30",
   "metadata": {},
   "outputs": [],
   "source": []
  },
  {
   "cell_type": "code",
   "execution_count": 21,
   "id": "d190c9db",
   "metadata": {},
   "outputs": [
    {
     "name": "stdout",
     "output_type": "stream",
     "text": [
      "🔍 问题: 什么是深度学习？神经网络是如何工作的？\n",
      "\n",
      "=== 增强路由预测 ===\n",
      "推荐领域: 人工智能\n",
      "置信度: 0.6393\n",
      "最匹配关键词: 深度学习\n",
      "\n",
      "=== 传统路由结果 ===\n",
      "\n",
      "\n",
      "\u001b[1m> Entering new MultiPromptChain chain...\u001b[0m\n",
      "人工智能: {'input': '什么是深度学习？神经网络是如何工作的？'}\n",
      "\u001b[1m> Finished chain.\u001b[0m\n",
      "\n",
      "答案: ### 深度学习简介\n",
      "\n",
      "**深度学习**是**机器学习**的一个子领域，它通过模拟人脑神经元连接的结构（即**人工神经网络**）来学习和表示数据中的复杂模式。与传统机器学习方法相比，深度学习能够自动从原始数据中提取多层次的特征，无需依赖人工设计的特征。\n",
      "\n",
      "#### 核心特点：\n",
      "1. **层次化学习**：通过多层神经网络（如卷积层、全连接层等）逐层提取特征（从低级特征到高级语义）。\n",
      "2. **端到端学习**：直接从输入数据（如图像、文本）映射到输出（如分类结果），无需分阶段处理。\n",
      "3. **大数据依赖**：通常需要大量标注数据和高计算资源（如GPU）。\n",
      "\n",
      "---\n",
      "\n",
      "### 神经网络的工作原理\n",
      "\n",
      "神经网络由**神经元**（或称为“节点”）和**连接权重**组成，其核心思想是通过调整权重来最小化预测误差。以下是关键步骤：\n",
      "\n",
      "#### 1. 神经元模型\n",
      "- 每个神经元接收输入 \\( x_1, x_2, ..., x_n \\)，并计算加权和：\n",
      "  \\[\n",
      "  z = w_1x_1 + w_2x_2 + ... + w_nx_n + b\n",
      "  \\]\n",
      "  其中 \\( w_i \\) 是权重，\\( b \\) 是偏置项。\n",
      "- 通过**激活函数**（如ReLU、Sigmoid）引入非线性：\n",
      "  \\[\n",
      "  a = \\sigma(z)\n",
      "  \\]\n",
      "  例如，ReLU函数为 \\( \\sigma(z) = \\max(0, z) \\)。\n",
      "\n",
      "#### 2. 网络结构\n",
      "- **输入层**：接收原始数据（如图像像素、单词向量）。\n",
      "- **隐藏层**：多个中间层，逐步提取特征。\n",
      "- **输出层**：生成最终结果（如分类概率、回归值）。\n",
      "\n",
      "#### 3. 前向传播（Forward Propagation）\n",
      "数据从输入层逐层传递到输出层，每一层计算加权和并应用激活函数。\n",
      "\n",
      "#### 4. 损失函数（Loss Function）\n",
      "衡量预测结果与真实值的差异，例如：\n",
      "- 分类任务：交叉熵损失（Cross-Entropy Loss）。\n",
      "- 回归任务：均方误差（MSE）。\n",
      "\n",
      "#### 5. 反向传播（Backpropagation）\n",
      "通过链式法则计算损失对每个权重的梯度，从输出层反向传递误差到输入层。例如：\n",
      "\\[\n",
      "\\frac{\\partial L}{\\partial w_i} = \\frac{\\partial L}{\\partial a} \\cdot \\frac{\\partial a}{\\partial z} \\cdot \\frac{\\partial z}{\\partial w_i}\n",
      "\\]\n",
      "\n",
      "#### 6. 优化器（Optimizer）\n",
      "使用梯度下降等算法更新权重，例如：\n",
      "\\[\n",
      "w_i \\leftarrow w_i - \\eta \\cdot \\frac{\\partial L}{\\partial w_i}\n",
      "\\]\n",
      "其中 \\( \\eta \\) 是学习率。常用优化器包括SGD、Adam。\n",
      "\n",
      "---\n",
      "\n",
      "### 神经网络的类型（根据任务）\n",
      "1. **前馈神经网络（FNN）**：基础结构，适用于表格数据。\n",
      "2. **卷积神经网络（CNN）**：专用于图像，通过卷积核提取局部特征。\n",
      "3. **循环神经网络（RNN）**：处理序列数据（如文本、时间序列），具有记忆能力。\n",
      "4. **Transformer**：基于自注意力机制（如BERT、GPT），擅长长距离依赖建模。\n",
      "\n",
      "---\n",
      "\n",
      "### 示例：图像分类的CNN流程\n",
      "1. **输入**：RGB图像（如224x224x3）。\n",
      "2. **卷积层**：用多个滤波器提取边缘、纹理等特征。\n",
      "3. **池化层**：降维（如最大池化保留显著特征）。\n",
      "4. **全连接层**：将特征映射到类别概率。\n",
      "5. **Softmax输出**：如“猫：0.9，狗：0.1”。\n",
      "\n",
      "---\n",
      "\n",
      "### 关键挑战\n",
      "- **过拟合**：通过Dropout、正则化或数据增强缓解。\n",
      "- **梯度消失/爆炸**：使用残差连接（ResNet）、归一化技术。\n",
      "\n",
      "如果需要更具体的细节（如某种网络结构或数学推导），可以进一步探讨！\n"
     ]
    }
   ],
   "source": [
    "# 测试AI问题（新增领域）\n",
    "ai_query = \"什么是深度学习？神经网络是如何工作的？\"\n",
    "\n",
    "print(f\"🔍 问题: {ai_query}\")\n",
    "print(\"\\n=== 增强路由预测 ===\")\n",
    "prediction = enhanced_routing_prediction(ai_query)\n",
    "print(f\"推荐领域: {prediction['recommended_domain']}\")\n",
    "print(f\"置信度: {prediction['confidence']:.4f}\")\n",
    "print(f\"最匹配关键词: {prediction['all_scores'][prediction['recommended_domain']]['best_keyword']}\")\n",
    "\n",
    "print(\"\\n=== 传统路由结果 ===\")\n",
    "result = chain.run(ai_query)\n",
    "print(f\"\\n答案: {result}\")"
   ]
  },
  {
   "cell_type": "code",
   "execution_count": null,
   "id": "8289e1eb-3da7-445a-859b-475d02d20958",
   "metadata": {},
   "outputs": [],
   "source": []
  },
  {
   "cell_type": "markdown",
   "id": "0c313b15",
   "metadata": {},
   "source": [
    "# 批量测试与分析"
   ]
  },
  {
   "cell_type": "code",
   "execution_count": 25,
   "id": "ec27e227",
   "metadata": {},
   "outputs": [
    {
     "name": "stdout",
     "output_type": "stream",
     "text": [
      "=== 批量测试结果 ===\n",
      "--------------------------------------------------------------------------------\n",
      " 1. ❌ 问题: 什么是牛顿第一定律？...\n",
      "    预期: 物理学 | 预测: DEFAULT | 置信度: 0.3941\n",
      "\n",
      " 2. ✅ 问题: 请解释微积分的基本定理...\n",
      "    预期: 数学 | 预测: 数学 | 置信度: 0.6622\n",
      "\n",
      " 3. ❌ 问题: 中国古代四大发明是什么？...\n",
      "    预期: 历史 | 预测: DEFAULT | 置信度: 0.4802\n",
      "\n",
      " 4. ❌ 问题: Python中的装饰器是什么？...\n",
      "    预期: 计算机科学 | 预测: DEFAULT | 置信度: 0.5330\n",
      "\n",
      " 5. ❌ 问题: 机器学习中的过拟合问题如何解决？...\n",
      "    预期: 人工智能 | 预测: DEFAULT | 置信度: 0.5340\n",
      "\n",
      " 6. ✅ 问题: 今天天气怎么样？...\n",
      "    预期: DEFAULT | 预测: DEFAULT | 置信度: 0.3045\n",
      "\n",
      " 7. ✅ 问题: 什么是量子计算？...\n",
      "    预期: 物理学 | 预测: 物理学 | 置信度: 0.6192\n",
      "\n",
      " 8. ✅ 问题: 如何计算矩阵的特征值？...\n",
      "    预期: 数学 | 预测: 数学 | 置信度: 0.6025\n",
      "\n",
      "\n",
      "🎯 路由准确率: 50.00% (4/8)\n"
     ]
    }
   ],
   "source": [
    "# 批量测试问题\n",
    "test_questions = [\n",
    "    (\"什么是牛顿第一定律？\", \"物理学\"),\n",
    "    (\"请解释微积分的基本定理\", \"数学\"),\n",
    "    (\"中国古代四大发明是什么？\", \"历史\"),\n",
    "    (\"Python中的装饰器是什么？\", \"计算机科学\"),\n",
    "    (\"机器学习中的过拟合问题如何解决？\", \"人工智能\"),\n",
    "    (\"今天天气怎么样？\", \"DEFAULT\"),\n",
    "    (\"什么是量子计算？\", \"物理学\"),\n",
    "    (\"如何计算矩阵的特征值？\", \"数学\")\n",
    "]\n",
    "\n",
    "print(\"=== 批量测试结果 ===\")\n",
    "print(\"-\" * 80)\n",
    "\n",
    "correct_predictions = 0\n",
    "total_questions = len(test_questions)\n",
    "\n",
    "for i, (question, expected) in enumerate(test_questions, 1):\n",
    "    prediction = enhanced_routing_prediction(question)\n",
    "    predicted_domain = prediction['recommended_domain']\n",
    "    confidence = prediction['confidence']\n",
    "    \n",
    "    is_correct = predicted_domain == expected\n",
    "    if is_correct:\n",
    "        correct_predictions += 1\n",
    "    \n",
    "    status = \"✅\" if is_correct else \"❌\"\n",
    "    print(f\"{i:2d}. {status} 问题: {question[:30]}...\")\n",
    "    print(f\"    预期: {expected} | 预测: {predicted_domain} | 置信度: {confidence:.4f}\")\n",
    "    print()\n",
    "\n",
    "accuracy = correct_predictions / total_questions\n",
    "print(f\"\\n🎯 路由准确率: {accuracy:.2%} ({correct_predictions}/{total_questions})\")"
   ]
  },
  {
   "cell_type": "markdown",
   "id": "e59c44ee",
   "metadata": {},
   "source": [
    "# 详细分析功能"
   ]
  },
  {
   "cell_type": "code",
   "execution_count": 26,
   "id": "f0a0291d",
   "metadata": {},
   "outputs": [
    {
     "name": "stdout",
     "output_type": "stream",
     "text": [
      "🔍 详细分析: \"如何使用Python实现神经网络？\"\n",
      "============================================================\n",
      "📊 总体结果:\n",
      "  推荐领域: DEFAULT\n",
      "  置信度: 0.5945\n",
      "  是否满足阈值: False\n",
      "\n",
      "📈 各领域分数详情:\n",
      "  计算机科学:\n",
      "    加权分数: 0.5945\n",
      "    平均相似度: 0.4444\n",
      "    最大相似度: 0.6946\n",
      "    最匹配关键词: Python\n",
      "\n",
      "  人工智能:\n",
      "    加权分数: 0.5860\n",
      "    平均相似度: 0.4530\n",
      "    最大相似度: 0.6746\n",
      "    最匹配关键词: 神经网络\n",
      "\n",
      "  数学:\n",
      "    加权分数: 0.3251\n",
      "    平均相似度: 0.2949\n",
      "    最大相似度: 0.3452\n",
      "    最匹配关键词: 矩阵\n",
      "\n",
      "  物理学:\n",
      "    加权分数: 0.2789\n",
      "    平均相似度: 0.2582\n",
      "    最大相似度: 0.2926\n",
      "    最匹配关键词: 电磁学\n",
      "\n",
      "  历史:\n",
      "    加权分数: 0.2098\n",
      "    平均相似度: 0.1764\n",
      "    最大相似度: 0.2321\n",
      "    最匹配关键词: 现代\n",
      "\n"
     ]
    }
   ],
   "source": [
    "def detailed_routing_analysis(query):\n",
    "    \"\"\"\n",
    "    对单个查询进行详细的路由分析\n",
    "    \"\"\"\n",
    "    print(f\"🔍 详细分析: \\\"{query}\\\"\")\n",
    "    print(\"=\"*60)\n",
    "    \n",
    "    prediction = enhanced_routing_prediction(query)\n",
    "    \n",
    "    print(f\"📊 总体结果:\")\n",
    "    print(f\"  推荐领域: {prediction['recommended_domain']}\")\n",
    "    print(f\"  置信度: {prediction['confidence']:.4f}\")\n",
    "    print(f\"  是否满足阈值: {prediction['threshold_met']}\")\n",
    "    \n",
    "    print(f\"\\n📈 各领域分数详情:\")\n",
    "    scores = prediction['all_scores']\n",
    "    \n",
    "    # 按加权分数排序\n",
    "    sorted_domains = sorted(scores.items(), key=lambda x: x[1]['weighted_score'], reverse=True)\n",
    "    \n",
    "    for domain, score_info in sorted_domains:\n",
    "        print(f\"  {domain}:\")\n",
    "        print(f\"    加权分数: {score_info['weighted_score']:.4f}\")\n",
    "        print(f\"    平均相似度: {score_info['avg_similarity']:.4f}\")\n",
    "        print(f\"    最大相似度: {score_info['max_similarity']:.4f}\")\n",
    "        print(f\"    最匹配关键词: {score_info['best_keyword']}\")\n",
    "        print()\n",
    "\n",
    "# 测试详细分析\n",
    "detailed_routing_analysis(\"如何使用Python实现神经网络？\")"
   ]
  },
  {
   "cell_type": "code",
   "execution_count": null,
   "id": "0e3c588c-2f8e-498d-a558-ceb1db0b31e7",
   "metadata": {},
   "outputs": [],
   "source": []
  },
  {
   "cell_type": "code",
   "execution_count": null,
   "id": "557f1a66-06d6-4db5-9d70-100bb2e426f0",
   "metadata": {},
   "outputs": [],
   "source": []
  },
  {
   "cell_type": "markdown",
   "id": "a18123d3",
   "metadata": {},
   "source": [
    "# 总结\n",
    "\n",
    "## 🎯 增强版路由链特性\n",
    "\n",
    "1. **保持原版功能**: 完整保留了原版的所有路由链功能\n",
    "2. **新增AI领域**: 专门处理机器学习和人工智能相关问题\n",
    "3. **向量语义路由**: 使用BGE模型进行语义相似度计算，提高路由准确性\n",
    "4. **详细分析功能**: 提供路由决策的详细分析和可解释性\n",
    "5. **批量测试**: 支持批量测试和准确率分析\n",
    "6. **Python 3.11兼容**: 针对新版本Python进行优化\n",
    "\n",
    "## 💡 使用建议\n",
    "\n",
    "- **传统路由**: 适用于明确的领域问题\n",
    "- **增强路由**: 适用于需要语义理解的复杂问题\n",
    "- **阈值调整**: 可以根据需要调整相似度阈值来控制路由敏感度\n",
    "\n",
    "这个增强版本为您的项目提供了更智能、更准确的问题路由功能！🚀"
   ]
  }
 ],
 "metadata": {
  "kernelspec": {
   "display_name": "Python 3 (ipykernel)",
   "language": "python",
   "name": "python3"
  },
  "language_info": {
   "codemirror_mode": {
    "name": "ipython",
    "version": 3
   },
   "file_extension": ".py",
   "mimetype": "text/x-python",
   "name": "python",
   "nbconvert_exporter": "python",
   "pygments_lexer": "ipython3",
   "version": "3.11.13"
  }
 },
 "nbformat": 4,
 "nbformat_minor": 5
}
