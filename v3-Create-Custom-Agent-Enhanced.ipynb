{
 "cells": [
  {
   "cell_type": "markdown",
   "id": "0bbf4206",
   "metadata": {},
   "source": [
    "# v3-Create-Custom-Agent-Enhanced\n",
    "\n",
    "基于v2增强版，新增CV简历向量搜索：\n",
    "- 集成Qdrant向量数据库\n",
    "- 使用BGE本地嵌入模型\n",
    "- 智能简历内容搜索\n",
    "- 个性化面试问题\n",
    "\n",
    "对应原版：`v3-Create-Custom-Agent.ipynb`\n",
    "\n",
    "## 适配环境\n",
    "- Python 3.11\n",
    "- Qdrant向量数据库 (您自己启动的)\n",
    "- BGE-small-zh本地嵌入模型\n",
    "- 灵活依赖版本"
   ]
  },
  {
   "cell_type": "code",
   "execution_count": 1,
   "id": "1a0c79b1",
   "metadata": {},
   "outputs": [
    {
     "name": "stdout",
     "output_type": "stream",
     "text": [
      "✅ DeepSeek API Key 已配置\n",
      "🗄️ Qdrant数据库: localhost:6333\n"
     ]
    }
   ],
   "source": [
    "import os\n",
    "from dotenv import load_dotenv, find_dotenv\n",
    "\n",
    "load_dotenv(find_dotenv())\n",
    "\n",
    "\n",
    "\n",
    "# 检查配置\n",
    "if os.getenv('DEEPSEEK_API_KEY'):\n",
    "    print(\"✅ DeepSeek API Key 已配置\")\n",
    "else:\n",
    "    print(\"❌ 请在.env文件中配置DEEPSEEK_API_KEY\")\n",
    "    raise ValueError(\"DeepSeek API Key未配置\")\n",
    "\n",
    "if os.getenv('QDRANT_HOST'):\n",
    "    print(f\"🗄️ Qdrant数据库: {os.getenv('QDRANT_HOST')}:{os.getenv('QDRANT_PORT')}\")\n",
    "else:\n",
    "    print(\"⚠️ Qdrant配置未找到，将使用默认localhost:6333\")"
   ]
  },
  {
   "cell_type": "markdown",
   "id": "42e6a40e",
   "metadata": {},
   "source": [
    "## Load the LLM 加载LLM"
   ]
  },
  {
   "cell_type": "code",
   "execution_count": 2,
   "id": "4bb445de",
   "metadata": {},
   "outputs": [
    {
     "name": "stdout",
     "output_type": "stream",
     "text": [
      "🧠 使用DeepSeek模型进行CV搜索面试\n",
      "🇨🇳 支持中文简历理解和分析\n"
     ]
    }
   ],
   "source": [
    "import os\n",
    "from langchain_openai import ChatOpenAI\n",
    "\n",
    "# 使用DeepSeek作为LLM\n",
    "llm = ChatOpenAI(\n",
    "    model=\"deepseek-chat\",\n",
    "    temperature=0,\n",
    "    openai_api_key=os.getenv(\"DEEPSEEK_API_KEY\"),\n",
    "    openai_api_base=\"https://api.deepseek.com\"\n",
    ")\n",
    "\n",
    "print(\"🧠 使用DeepSeek模型进行CV搜索面试\")\n",
    "print(\"🇨🇳 支持中文简历理解和分析\")"
   ]
  },
  {
   "cell_type": "markdown",
   "id": "460c84ab",
   "metadata": {},
   "source": [
    "## 初始化Qdrant向量数据库"
   ]
  },
  {
   "cell_type": "code",
   "execution_count": 3,
   "id": "680f01c9",
   "metadata": {},
   "outputs": [
    {
     "name": "stdout",
     "output_type": "stream",
     "text": [
      "🗄️ 连接Qdrant: localhost:6333\n",
      "📁 BGE模型路径: C:\\Users\\guohaoyu\\.cache\\huggingface\\hub\\models--BAAI--bge-small-zh-v1.5\\snapshots\\7999e1d3359715c523056ef9478215996d62a620\n",
      "✅ 向量数据库和嵌入模型初始化完成\n"
     ]
    }
   ],
   "source": [
    "from qdrant_client import QdrantClient\n",
    "from sentence_transformers import SentenceTransformer\n",
    "from langchain_community.vectorstores import Qdrant\n",
    "from langchain_huggingface import HuggingFaceEmbeddings\n",
    "\n",
    "# 从环境变量获取Qdrant配置\n",
    "qdrant_host = os.getenv('QDRANT_HOST', 'localhost')\n",
    "qdrant_port = int(os.getenv('QDRANT_PORT', 6333))\n",
    "\n",
    "# 连接到Qdrant\n",
    "qdrant_client = QdrantClient(host=qdrant_host, port=qdrant_port)\n",
    "print(f\"🗄️ 连接Qdrant: {qdrant_host}:{qdrant_port}\")\n",
    "\n",
    "# 配置BGE模型路径\n",
    "model_path = os.getenv('BGE_MODEL_PATH', \"BAAI/bge-small-zh-v1.5\")\n",
    "print(f\"📁 BGE模型路径: {model_path}\")\n",
    "\n",
    "# 使用BGE嵌入模型\n",
    "embeddings = HuggingFaceEmbeddings(\n",
    "    model_name=model_path,\n",
    "    model_kwargs={'device': 'cpu'},  # 如果有GPU可以改为'cuda'\n",
    "    encode_kwargs={'normalize_embeddings': True}\n",
    ")\n",
    "\n",
    "print(\"✅ 向量数据库和嵌入模型初始化完成\")"
   ]
  },
  {
   "cell_type": "code",
   "execution_count": null,
   "id": "deb0aae5-c75c-46b3-9ee2-152ec8e86e75",
   "metadata": {},
   "outputs": [],
   "source": []
  },
  {
   "cell_type": "code",
   "execution_count": null,
   "id": "e4e18e58-0d23-4bc8-a5d7-57607a09f3e4",
   "metadata": {},
   "outputs": [],
   "source": []
  },
  {
   "cell_type": "markdown",
   "id": "13168dcc",
   "metadata": {},
   "source": [
    "## Define Enhanced Tools 定义增强工具"
   ]
  },
  {
   "cell_type": "code",
   "execution_count": 4,
   "id": "bbaa3c23",
   "metadata": {},
   "outputs": [],
   "source": [
    "from langchain.agents import tool\n",
    "import time\n",
    "import os\n",
    "import shutil\n",
    "\n",
    "@tool\n",
    "def generate_unique_timestamp():\n",
    "    \"\"\"\n",
    "    生成唯一的时间戳。输入始终为空字符串。\n",
    "\n",
    "    Returns:\n",
    "        int: 唯一的时间戳，以毫秒为单位。\n",
    "    \"\"\"\n",
    "    timestamp = int(time.time() * 1000)\n",
    "    return timestamp\n",
    "\n",
    "@tool\n",
    "def create_folder(folder_name):\n",
    "    \"\"\"\n",
    "    根据给定的文件夹名创建文件夹。\n",
    "\n",
    "    Args:\n",
    "        folder_name (str): 要创建的文件夹的名称。\n",
    "\n",
    "    Returns:\n",
    "        str: 创建的文件夹的路径。\n",
    "    \"\"\"\n",
    "    try:\n",
    "        folder_path = os.path.join(\"chat_history\", folder_name)\n",
    "        os.makedirs(folder_path, exist_ok=True)\n",
    "        return os.path.abspath(folder_path)\n",
    "    except OSError as e:\n",
    "        print(f\"创建文件夹失败：{e}\")\n",
    "        return None\n",
    "\n",
    "@tool\n",
    "def delete_temp_folder():\n",
    "    \"\"\"\n",
    "    删除 chat_history 文件夹下的 temp 文件夹。输入始终为空字符串。\n",
    "\n",
    "    Returns:\n",
    "        bool: 如果成功删除则返回 True，否则返回 False。\n",
    "    \"\"\"\n",
    "    temp_folder = \"chat_history/temp\"\n",
    "    try:\n",
    "        if os.path.exists(temp_folder):\n",
    "            shutil.rmtree(temp_folder)\n",
    "            print(\"成功删除 temp 文件夹。\")\n",
    "        return True\n",
    "    except Exception as e:\n",
    "        print(f\"删除 temp 文件夹失败：{e}\")\n",
    "        return False"
   ]
  },
  {
   "cell_type": "code",
   "execution_count": null,
   "id": "423b4f67-05a3-4dff-9690-36533abdba3f",
   "metadata": {},
   "outputs": [],
   "source": []
  },
  {
   "cell_type": "code",
   "execution_count": null,
   "id": "bd2920a4-cd55-435b-9b2e-aeca56925ab2",
   "metadata": {},
   "outputs": [],
   "source": []
  },
  {
   "cell_type": "code",
   "execution_count": 5,
   "id": "8d42784b",
   "metadata": {},
   "outputs": [],
   "source": [
    "@tool\n",
    "def copy_chat_history(interview_id: str) -> str:\n",
    "    \"\"\"\n",
    "    将 chat_history/temp 文件夹中的 chat_history.txt 文件复制到指定面试ID文件夹中。\n",
    "    \"\"\"\n",
    "    temp_folder = os.path.join(\"chat_history\", \"temp\")\n",
    "    interview_folder = os.path.join(\"chat_history\", interview_id)\n",
    "\n",
    "    if not os.path.exists(interview_folder):\n",
    "        return f\"面试ID为 {interview_id} 的文件夹不存在。无法完成复制操作。\"\n",
    "\n",
    "    source_file = os.path.join(temp_folder, 'chat_history.txt')\n",
    "    destination_file = os.path.join(interview_folder, 'chat_history.txt')\n",
    "\n",
    "    if os.path.exists(source_file):\n",
    "        shutil.copyfile(source_file, destination_file)\n",
    "        return f\"已将 chat_history.txt 复制到面试ID为 {interview_id} 的文件夹中。\"\n",
    "    else:\n",
    "        return \"临时聊天记录文件不存在。\"\n",
    "\n",
    "@tool\n",
    "def read_chat_history(interview_id: str) -> str:\n",
    "    \"\"\"\n",
    "    读取指定面试ID文件夹下的聊天记录内容。\n",
    "    \"\"\"\n",
    "    interview_folder = os.path.join(\"chat_history\", interview_id)\n",
    "\n",
    "    if not os.path.exists(interview_folder):\n",
    "        return f\"面试ID为 {interview_id} 的文件夹不存在。无法读取聊天记录。\"\n",
    "\n",
    "    chat_history_file = os.path.join(interview_folder, 'chat_history.txt')\n",
    "    if os.path.exists(chat_history_file):\n",
    "        with open(chat_history_file, 'r', encoding='utf-8') as file:\n",
    "            return file.read()\n",
    "    else:\n",
    "        return \"聊天记录文件不存在。\"\n",
    "\n",
    "@tool\n",
    "def generate_markdown_file(interview_id: str, interview_feedback: str) -> str:\n",
    "    \"\"\"\n",
    "    生成面试报告的Markdown文件。\n",
    "    \"\"\"\n",
    "    interview_folder = os.path.join(\"chat_history\", interview_id)\n",
    "\n",
    "    if not os.path.exists(interview_folder):\n",
    "        return f\"面试ID为 {interview_id} 的文件夹不存在。无法生成 Markdown 文件。\"\n",
    "\n",
    "    markdown_file_path = os.path.join(interview_folder, \"面试报告.md\")\n",
    "\n",
    "    try:\n",
    "        with open(markdown_file_path, 'w', encoding='utf-8') as file:\n",
    "            file.write(\"# 面试报告\\n\\n\")\n",
    "            file.write(\"## 面试反馈：\\n\\n\")\n",
    "            file.write(interview_feedback)\n",
    "            file.write(\"\\n\\n\")\n",
    "\n",
    "            # 添加面试记录\n",
    "            chat_history_file_path = os.path.join(interview_folder, \"chat_history.txt\")\n",
    "            if os.path.exists(chat_history_file_path):\n",
    "                file.write(\"## 面试记录：\\n\\n\")\n",
    "                with open(chat_history_file_path, 'r', encoding='utf-8') as chat_file:\n",
    "                    for line in chat_file:\n",
    "                        file.write(line.rstrip('\\n') + '\\n\\n')\n",
    "\n",
    "        return f\"已生成 Markdown 文件: {markdown_file_path}\"\n",
    "    except Exception as e:\n",
    "        return f\"生成 Markdown 文件时出错: {str(e)}\""
   ]
  },
  {
   "cell_type": "code",
   "execution_count": null,
   "id": "fe485288-694e-4f79-96b6-54871a620494",
   "metadata": {},
   "outputs": [],
   "source": []
  },
  {
   "cell_type": "code",
   "execution_count": null,
   "id": "d43a2e86-963a-4dbe-af0c-47988bbc00e0",
   "metadata": {},
   "outputs": [],
   "source": []
  },
  {
   "cell_type": "markdown",
   "id": "4e18e6cf",
   "metadata": {},
   "source": [
    "## 增强工具：Qdrant向量搜索"
   ]
  },
  {
   "cell_type": "code",
   "execution_count": 6,
   "id": "dbdbfb4a",
   "metadata": {},
   "outputs": [],
   "source": [
    "@tool\n",
    "def find_most_relevant_block_from_cv_qdrant(query: str) -> str:\n",
    "    \"\"\"\n",
    "    使用Qdrant向量数据库搜索简历中与查询最相关的内容块。\n",
    "    当你需要根据职位描述（JD）中的技能关键词去简历文本中找到相关内容时，就可以调用这个函数。\n",
    "    \n",
    "    Args:\n",
    "        query (str): 搜索查询，通常是技能关键词或技术点\n",
    "    \n",
    "    Returns:\n",
    "        str: 简历中最相关的内容块\n",
    "    \"\"\"\n",
    "    try:\n",
    "        # 创建Qdrant向量存储\n",
    "        vector_store = Qdrant(\n",
    "            client=qdrant_client,\n",
    "            collection_name=\"cv_collection\",\n",
    "            embeddings=embeddings,\n",
    "        )\n",
    "        \n",
    "        # 搜索相关内容\n",
    "        results = vector_store.similarity_search(query, k=2)\n",
    "        \n",
    "        if results:\n",
    "            # 返回最相关的内容\n",
    "            return results[0].page_content\n",
    "        else:\n",
    "            return \"未找到相关的简历内容。\"\n",
    "            \n",
    "    except Exception as e:\n",
    "        print(f\"find_most_relevant_block_from_cv_qdrant()发生错误：{e}\")\n",
    "        return \"搜索简历内容时发生错误。\""
   ]
  },
  {
   "cell_type": "code",
   "execution_count": null,
   "id": "06820114-db05-4c82-8c88-f62bfefa4217",
   "metadata": {},
   "outputs": [],
   "source": []
  },
  {
   "cell_type": "code",
   "execution_count": null,
   "id": "9a777d12-3957-4803-b41f-e54f99ed655b",
   "metadata": {},
   "outputs": [],
   "source": []
  },
  {
   "cell_type": "code",
   "execution_count": 7,
   "id": "b6bcf1cf",
   "metadata": {},
   "outputs": [],
   "source": [
    "# 定义所有工具\n",
    "tools = [\n",
    "    generate_unique_timestamp, \n",
    "    create_folder, \n",
    "    delete_temp_folder,\n",
    "    copy_chat_history, \n",
    "    read_chat_history, \n",
    "    generate_markdown_file, \n",
    "    find_most_relevant_block_from_cv_qdrant\n",
    "]"
   ]
  },
  {
   "cell_type": "code",
   "execution_count": null,
   "id": "0cac9f28-5e35-4ff5-8280-82ccaf31ef33",
   "metadata": {},
   "outputs": [],
   "source": []
  },
  {
   "cell_type": "code",
   "execution_count": null,
   "id": "03b1b4e9-74d0-4aed-839c-43aa1c7347eb",
   "metadata": {},
   "outputs": [],
   "source": []
  },
  {
   "cell_type": "markdown",
   "id": "007b95cc",
   "metadata": {},
   "source": [
    "## 数据预处理：JD和CV解析"
   ]
  },
  {
   "cell_type": "code",
   "execution_count": 8,
   "id": "a63b40b0",
   "metadata": {},
   "outputs": [
    {
     "name": "stdout",
     "output_type": "stream",
     "text": [
      "职位：AI工程师\n",
      "专业技能/知识/能力：['Python开发', '机器学习框架(TensorFlow, PyTorch)', 'LangChain', '向量数据库', 'Agent开发', 'DeepSeek等大语言模型', 'AI应用系统开发', '智能对话机器人设计与实现', '模型性能优化', '用户体验优化', 'AI技术落地']\n"
     ]
    }
   ],
   "source": [
    "# 解析JD文件（如果需要重新解析）\n",
    "from utils_enhanced import parse_jd_to_json, read_json\n",
    "\n",
    "# 可选：重新解析JD\n",
    "# jd_file_path = \"data/jd.txt\"\n",
    "# jd_json_file_path = parse_jd_to_json(llm, jd_file_path)\n",
    "\n",
    "# 读取已解析的JD\n",
    "jd_json_file_path = \"data/jd.json\"\n",
    "if os.path.exists(jd_json_file_path):\n",
    "    jd_dict = read_json(jd_json_file_path)\n",
    "    job_title = jd_dict.get('基本信息', {}).get('职位', 'Python工程师')\n",
    "    job_key_skills = jd_dict.get('专业技能/知识/能力', [])\n",
    "    print(f\"职位：{job_title}\")\n",
    "    print(f\"专业技能/知识/能力：{job_key_skills}\")\n",
    "else:\n",
    "    job_title = \"Python工程师 (AI应用方向)\"\n",
    "    job_key_skills = [\"Python\", \"AI\", \"机器学习\"]"
   ]
  },
  {
   "cell_type": "code",
   "execution_count": null,
   "id": "9c27c1a0-15c3-4f95-aacd-070034ebfcf5",
   "metadata": {},
   "outputs": [],
   "source": []
  },
  {
   "cell_type": "code",
   "execution_count": null,
   "id": "10759e2a-c30e-4d9e-bbea-b69ed933b9dc",
   "metadata": {},
   "outputs": [],
   "source": []
  },
  {
   "cell_type": "code",
   "execution_count": 9,
   "id": "c9963927",
   "metadata": {},
   "outputs": [
    {
     "name": "stdout",
     "output_type": "stream",
     "text": [
      "解析了 11 个简历文档块\n"
     ]
    }
   ],
   "source": [
    "# 解析CV文件并存储到Qdrant\n",
    "from utils_enhanced import parse_cv_to_md\n",
    "from langchain.text_splitter import MarkdownHeaderTextSplitter\n",
    "from langchain_core.documents import Document\n",
    "\n",
    "# 解析CV为Markdown（如果需要重新解析）\n",
    "# cv_file_path = \"data/cv.txt\"\n",
    "# result = parse_cv_to_md(llm, cv_file_path)\n",
    "\n",
    "# 读取CV Markdown文件\n",
    "cv_md_path = \"data/cv.md\"\n",
    "if os.path.exists(cv_md_path):\n",
    "    with open(cv_md_path, 'r', encoding='utf-8') as file:\n",
    "        markdown_text = file.read()\n",
    "\n",
    "    # 分割文档\n",
    "    docs = []\n",
    "    headers_to_split_on = [\n",
    "        (\"#\", \"Title 1\"),\n",
    "        (\"##\", \"Title 2\"),\n",
    "    ]\n",
    "\n",
    "    markdown_splitter = MarkdownHeaderTextSplitter(headers_to_split_on=headers_to_split_on)\n",
    "    split_docs = markdown_splitter.split_text(markdown_text)\n",
    "    \n",
    "    for split_doc in split_docs:\n",
    "        metadata = split_doc.metadata\n",
    "        title_str = f\"# {metadata.get('Title 1', 'None')}\\n## {metadata.get('Title 2', 'None')}\\n\"\n",
    "        page_content = title_str + split_doc.page_content.strip()\n",
    "        doc = Document(\n",
    "            page_content=page_content,\n",
    "            metadata=metadata\n",
    "        )\n",
    "        docs.append(doc)\n",
    "\n",
    "    print(f\"解析了 {len(docs)} 个简历文档块\")\n",
    "else:\n",
    "    print(\"CV Markdown文件不存在，请先解析CV文件\")\n",
    "    docs = []"
   ]
  },
  {
   "cell_type": "code",
   "execution_count": null,
   "id": "50185020-3212-473c-8af9-468cb5104b9c",
   "metadata": {},
   "outputs": [],
   "source": []
  },
  {
   "cell_type": "code",
   "execution_count": null,
   "id": "8fcd4983-08fb-44ea-bb29-f4d947f08b09",
   "metadata": {},
   "outputs": [],
   "source": []
  },
  {
   "cell_type": "code",
   "execution_count": null,
   "id": "4df14868-6af3-4d4d-bdce-89c8f7304db0",
   "metadata": {},
   "outputs": [],
   "source": []
  },
  {
   "cell_type": "code",
   "execution_count": 19,
   "id": "6f712df1",
   "metadata": {},
   "outputs": [
    {
     "name": "stdout",
     "output_type": "stream",
     "text": [
      "✅ 集合 'cv_collection' 已存在\n",
      "✅ 集合已存在文档，无需重新添加\n"
     ]
    }
   ],
   "source": [
    "\n",
    "# 存储文档到Qdrant\n",
    "if docs:\n",
    "    try:\n",
    "        # 先尝试创建集合（如果不存在）\n",
    "        from qdrant_client.models import Distance, VectorParams\n",
    "        \n",
    "        collection_name = \"cv_collection\"\n",
    "        \n",
    "        # 检查集合是否存在\n",
    "        try:\n",
    "            collection_info = qdrant_client.get_collection(collection_name)\n",
    "            print(f\"✅ 集合 '{collection_name}' 已存在\")\n",
    "        except Exception:\n",
    "            # 集合不存在，创建新集合\n",
    "            print(f\"📝 创建新集合: {collection_name}\")\n",
    "            qdrant_client.create_collection(\n",
    "                collection_name=collection_name,\n",
    "                vectors_config=VectorParams(\n",
    "                    size=512,  # BGE-small-zh-v1.5 的向量维度\n",
    "                    distance=Distance.COSINE\n",
    "                )\n",
    "            )\n",
    "            print(f\"✅ 成功创建集合: {collection_name}\")\n",
    "        \n",
    "        # 现在创建 vector_store 并添加文档\n",
    "        vector_store = Qdrant(\n",
    "            client=qdrant_client,\n",
    "            collection_name=collection_name,\n",
    "            embeddings=embeddings,\n",
    "        )\n",
    "        \n",
    "        # 检查集合是否已有文档\n",
    "        try:\n",
    "            test_results = vector_store.similarity_search(\"Python\", k=1)\n",
    "            if test_results:\n",
    "                print(\"✅ 集合已存在文档，无需重新添加\")\n",
    "            else:\n",
    "                # 集合为空，添加文档\n",
    "                vector_store.add_documents(docs)\n",
    "                print(f\"✅ 成功将 {len(docs)} 个文档存储到Qdrant\")\n",
    "        except Exception as e:\n",
    "            # 如果搜索失败，直接添加文档\n",
    "            vector_store.add_documents(docs)\n",
    "            print(f\"✅ 成功将 {len(docs)} 个文档存储到Qdrant\")\n",
    "            \n",
    "    except Exception as e:\n",
    "        print(f\"存储到Qdrant时出错: {e}\")\n",
    "        print(\"请确保Docker中的Qdrant服务正在运行\")\n",
    "        print(\"可以尝试重启Qdrant服务：docker restart qdrant\")"
   ]
  },
  {
   "cell_type": "code",
   "execution_count": null,
   "id": "4f58cc26-3a02-4991-8841-82d68fb842a8",
   "metadata": {},
   "outputs": [],
   "source": []
  },
  {
   "cell_type": "markdown",
   "id": "c82bc2ff",
   "metadata": {},
   "source": [
    "## Create Enhanced Prompt 创建增强提示"
   ]
  },
  {
   "cell_type": "code",
   "execution_count": 11,
   "id": "3df4968d",
   "metadata": {},
   "outputs": [],
   "source": [
    "system_prompt = f\"\"\"\n",
    "## Role and Goals\n",
    "- 你是所招岗位\"{job_title}\"的技术专家，同时也作为技术面试官向求职者提出技术问题，专注于考察应聘者的专业技能、知识和能力。\n",
    "- 这里是当前岗位所需的专业技能、知识和能力：\"{job_key_skills}\"，你应该重点围绕这些关键项提出你的问题。\n",
    "- 你拥有高级的简历内容搜索能力，能够根据技术点智能匹配求职者的相关经验。\n",
    "- 你严格遵守面试流程进行面试。\n",
    "\n",
    "## Interview Workflow\n",
    "1. 当应聘者说开始面试后，\n",
    "    1.1 你要依据当前时间生成一个新的时间戳作为面试ID（只会在面试开始的时候生成面试ID，其他任何时间都不会）\n",
    "    1.2 以该面试ID为文件夹名创建本地文件夹（只会在面试开始的时候创建以面试ID为名的文件夹，其他任何时间都不会）\n",
    "    1.3 删除存储聊天记录的临时文件夹\n",
    "    1.4 输出该面试ID给应聘者，并结合当前技术点、与技术点相关的简历内容，提出你的第一个基础技术问题。\n",
    "2. 接收应聘者的回答后，\n",
    "    2.1 检查应聘者的回答是否有效\n",
    "        2.1.1 如果是对面试官问题的正常回答（无论回答的好不好，还是回答不会，都算正常回答），就跳转到2.2处理\n",
    "        2.1.2 如果是与面试官问题无关的回答（胡言乱语、辱骂等），请警告求职者需要严肃对待面试，跳过2.2，再次向求职者提出上次的问题。\n",
    "    2.2 如果应聘者对上一个问题回答的很好，就基于当前知识点提出一个更深入一点的问题；\n",
    "        如果应聘者对上一个问题回答的一般，就基于当前知识点提出另一个角度的问题；\n",
    "        如果应聘者对上一个问题回答的不好，就基于当前知识点提出一个更简单一点的问题；\n",
    "        如果应聘者对上一个问题表示不会、不懂、一点也回答不了，就换一个与当前知识点不同的知识点进行技术提问。\n",
    "3. 当应聘者想结束面试或当应聘者想要面试报告，\n",
    "    3.1 从临时文件夹里复制一份聊天记录文件到当前面试ID文件夹下。\n",
    "    3.2 读取当前面试ID文件夹下的聊天记录，基于聊天记录、从多个角度评估应聘者的表现、生成一个详细的面试报告。\n",
    "    3.3 调用工具生成一个面试报告的markdown文件到当前面试ID文件夹下\n",
    "    3.4 告知应聘者面试已结束，以及面试报告的位置。\n",
    "    \n",
    "## Enhanced Features\n",
    "- 你每次提出的技术问题，都需要结合从JD里提取的技术点和与技术点相关的简历内容，当你需要获取`与技术点相关的简历内容`时，请调用智能搜索工具。\n",
    "- 你的问题应该既考虑岗位需求，又结合求职者的实际经验背景，做到个性化和针对性。\n",
    "- 使用向量搜索技术，你能够精准找到简历中与当前讨论技术点最相关的项目经验或技能描述。\n",
    "\n",
    "## Output Constraints\n",
    "- 你一次只会问一个面试问题。\n",
    "- 你发送给应聘者的信息中，一定不要解答你提出的面试问题，只需要有简短的反馈和提出的新问题。\n",
    "- 充分利用你的智能搜索能力，让面试更加个性化和专业。\n",
    "\"\"\""
   ]
  },
  {
   "cell_type": "code",
   "execution_count": null,
   "id": "285206dc-bf60-4d86-b122-b4ae14ac7ec4",
   "metadata": {},
   "outputs": [],
   "source": []
  },
  {
   "cell_type": "code",
   "execution_count": null,
   "id": "f51314d9-12e7-4b2b-a8eb-ba6e4b9db464",
   "metadata": {},
   "outputs": [],
   "source": []
  },
  {
   "cell_type": "code",
   "execution_count": 12,
   "id": "c51eaecd",
   "metadata": {},
   "outputs": [
    {
     "name": "stdout",
     "output_type": "stream",
     "text": [
      "✅ 增强版面试提示创建完成\n"
     ]
    }
   ],
   "source": [
    "from langchain_core.prompts import ChatPromptTemplate, MessagesPlaceholder\n",
    "\n",
    "prompt = ChatPromptTemplate.from_messages(\n",
    "    [\n",
    "        (\n",
    "            \"system\",\n",
    "            system_prompt,\n",
    "        ),\n",
    "        MessagesPlaceholder(variable_name=\"chat_history\"),\n",
    "        (\"user\", \"{input}\"),\n",
    "        MessagesPlaceholder(variable_name=\"agent_scratchpad\"),\n",
    "    ]\n",
    ")\n",
    "\n",
    "print(\"✅ 增强版面试提示创建完成\")"
   ]
  },
  {
   "cell_type": "code",
   "execution_count": null,
   "id": "9176e7a6-42fa-444f-89d0-c69fa846860b",
   "metadata": {},
   "outputs": [],
   "source": []
  },
  {
   "cell_type": "code",
   "execution_count": null,
   "id": "04de9e8d-bcc9-4f8c-9593-598ec9a20346",
   "metadata": {},
   "outputs": [],
   "source": []
  },
  {
   "cell_type": "markdown",
   "id": "d5872bd8",
   "metadata": {},
   "source": [
    "## Create the Enhanced Agent 创建增强代理"
   ]
  },
  {
   "cell_type": "code",
   "execution_count": 13,
   "id": "1c59056f",
   "metadata": {},
   "outputs": [
    {
     "name": "stdout",
     "output_type": "stream",
     "text": [
      "✅ 增强版Agent执行器创建完成\n"
     ]
    }
   ],
   "source": [
    "# 绑定工具到LLM\n",
    "llm_with_tools = llm.bind_tools(tools)\n",
    "\n",
    "from langchain.agents.format_scratchpad.openai_tools import (\n",
    "    format_to_openai_tool_messages,\n",
    ")\n",
    "from langchain.agents.output_parsers.openai_tools import OpenAIToolsAgentOutputParser\n",
    "\n",
    "agent = (\n",
    "    {\n",
    "        \"input\": lambda x: x[\"input\"],\n",
    "        \"agent_scratchpad\": lambda x: format_to_openai_tool_messages(\n",
    "            x[\"intermediate_steps\"]\n",
    "        ),\n",
    "        \"chat_history\": lambda x: x[\"chat_history\"],\n",
    "    }\n",
    "    | prompt\n",
    "    | llm_with_tools\n",
    "    | OpenAIToolsAgentOutputParser()\n",
    ")\n",
    "\n",
    "from langchain.agents import AgentExecutor\n",
    "\n",
    "agent_executor = AgentExecutor(agent=agent, tools=tools, verbose=True)\n",
    "\n",
    "print(\"✅ 增强版Agent执行器创建完成\")"
   ]
  },
  {
   "cell_type": "code",
   "execution_count": null,
   "id": "f4b81062-94bc-42c4-a586-8afbd88e7cc9",
   "metadata": {},
   "outputs": [],
   "source": []
  },
  {
   "cell_type": "code",
   "execution_count": null,
   "id": "d96da4fd-8611-4b66-8395-f496a1aec6f1",
   "metadata": {},
   "outputs": [],
   "source": []
  },
  {
   "cell_type": "markdown",
   "id": "0623b888",
   "metadata": {},
   "source": [
    "## Run the Enhanced Agent 运行增强代理"
   ]
  },
  {
   "cell_type": "code",
   "execution_count": 14,
   "id": "933b7fe8",
   "metadata": {},
   "outputs": [
    {
     "name": "stdout",
     "output_type": "stream",
     "text": [
      "应聘者: 开始面试\n",
      "==================================================\n",
      "\n",
      "\n",
      "\u001b[1m> Entering new AgentExecutor chain...\u001b[0m\n",
      "\u001b[32;1m\u001b[1;3m\n",
      "Invoking: `generate_unique_timestamp` with `{}`\n",
      "\n",
      "\n",
      "\u001b[0m\u001b[36;1m\u001b[1;3m1753926172875\u001b[0m\u001b[32;1m\u001b[1;3m\n",
      "Invoking: `create_folder` with `{'folder_name': '1712345678901'}`\n",
      "\n",
      "\n",
      "\u001b[0m\u001b[33;1m\u001b[1;3mC:\\learn\\7-22\\llm-developing-mock-interview\\chat_history\\1712345678901\u001b[0m\u001b[32;1m\u001b[1;3m\n",
      "Invoking: `delete_temp_folder` with `{}`\n",
      "\n",
      "\n",
      "\u001b[0m成功删除 temp 文件夹。\n",
      "\u001b[38;5;200m\u001b[1;3mTrue\u001b[0m\u001b[32;1m\u001b[1;3m面试ID：1712345678901\n",
      "\n",
      "请介绍一下你在Python开发方面的经验，特别是在机器学习或AI相关项目中的应用。\u001b[0m\n",
      "\n",
      "\u001b[1m> Finished chain.\u001b[0m\n",
      "面试官: 面试ID：1712345678901\n",
      "\n",
      "请介绍一下你在Python开发方面的经验，特别是在机器学习或AI相关项目中的应用。\n",
      "==================================================\n"
     ]
    },
    {
     "name": "stdin",
     "output_type": "stream",
     "text": [
      "\n",
      "应聘者:  没有\n"
     ]
    },
    {
     "name": "stdout",
     "output_type": "stream",
     "text": [
      "\n",
      "\n",
      "\u001b[1m> Entering new AgentExecutor chain...\u001b[0m\n",
      "\u001b[32;1m\u001b[1;3m好的，那我们换一个话题。你在简历中提到过使用机器学习框架（如TensorFlow或PyTorch）的经验吗？如果有，可以分享一下你在这些框架中的具体项目或任务吗？\u001b[0m\n",
      "\n",
      "\u001b[1m> Finished chain.\u001b[0m\n",
      "面试官: 好的，那我们换一个话题。你在简历中提到过使用机器学习框架（如TensorFlow或PyTorch）的经验吗？如果有，可以分享一下你在这些框架中的具体项目或任务吗？\n",
      "==================================================\n"
     ]
    },
    {
     "name": "stdin",
     "output_type": "stream",
     "text": [
      "\n",
      "应聘者:  结束面试\n"
     ]
    },
    {
     "name": "stdout",
     "output_type": "stream",
     "text": [
      "\n",
      "🎯 面试结束！\n",
      "感谢您的参与，祝您求职顺利！\n",
      "📄 面试记录已保存到: chat_history/20250731_094402\n",
      "面试系统已退出。\n"
     ]
    }
   ],
   "source": [
    "from utils_enhanced import save_chat_history\n",
    "from langchain_core.messages import AIMessage, HumanMessage\n",
    "import os\n",
    "\n",
    "chat_history = []\n",
    "\n",
    "user_input = \"开始面试\"\n",
    "print(f\"应聘者: {user_input}\")\n",
    "print(\"=\" * 50)\n",
    "\n",
    "while True:\n",
    "    try:\n",
    "        result = agent_executor.invoke({\"input\": user_input, \"chat_history\": chat_history})\n",
    "        print(f\"面试官: {result['output']}\")\n",
    "        print(\"=\" * 50)\n",
    "        \n",
    "        chat_history.extend([\n",
    "            HumanMessage(content=user_input),\n",
    "            AIMessage(content=result[\"output\"]),\n",
    "        ])\n",
    "        \n",
    "        # 存储聊天记录到临时文件夹\n",
    "        temp_folder = \"chat_history/temp\"\n",
    "        os.makedirs(temp_folder, exist_ok=True)\n",
    "        save_chat_history(chat_history, temp_folder)\n",
    "\n",
    "        # 获取用户下一条输入\n",
    "        user_input = input(\"\\n应聘者: \").strip()\n",
    "        \n",
    "        # 检查退出命令（更严格的匹配）\n",
    "        exit_commands = [\"exit\", \"退出\", \"结束面试\", \"quit\", \"bye\", \"再见\"]\n",
    "        if user_input.lower() in exit_commands or user_input == \"\":\n",
    "            print(\"\\n🎯 面试结束！\")\n",
    "            print(\"感谢您的参与，祝您求职顺利！\")\n",
    "            \n",
    "            # 生成最终面试报告\n",
    "            try:\n",
    "                from datetime import datetime\n",
    "                timestamp = datetime.now().strftime(\"%Y%m%d_%H%M%S\")\n",
    "                final_folder = f\"chat_history/{timestamp}\"\n",
    "                os.makedirs(final_folder, exist_ok=True)\n",
    "                save_chat_history(chat_history, final_folder)\n",
    "                print(f\"📄 面试记录已保存到: {final_folder}\")\n",
    "            except Exception as e:\n",
    "                print(f\"保存面试记录时出错: {e}\")\n",
    "            \n",
    "            break\n",
    "            \n",
    "    except KeyboardInterrupt:\n",
    "        print(\"\\n\\n🛑 面试被中断\")\n",
    "        break\n",
    "    except Exception as e:\n",
    "        print(f\"发生错误: {e}\")\n",
    "        print(\"请检查Qdrant服务是否正常运行，以及模型路径是否正确。\")\n",
    "        \n",
    "        # 询问是否继续\n",
    "        continue_choice = input(\"是否继续面试？(y/n): \").strip().lower()\n",
    "        if continue_choice in ['n', 'no', '否', '不']:\n",
    "            break\n",
    "        else:\n",
    "            user_input = input(\"请重新输入: \").strip()\n",
    "\n",
    "print(\"面试系统已退出。\")"
   ]
  },
  {
   "cell_type": "code",
   "execution_count": null,
   "id": "bf03888d-6d2b-444c-9c2a-db71194836be",
   "metadata": {},
   "outputs": [],
   "source": []
  },
  {
   "cell_type": "code",
   "execution_count": null,
   "id": "a65404b1-6c1f-4ff5-813e-ac183095d8e3",
   "metadata": {},
   "outputs": [],
   "source": []
  },
  {
   "cell_type": "markdown",
   "id": "51654eb7",
   "metadata": {},
   "source": [
    "## 测试向量搜索功能"
   ]
  },
  {
   "cell_type": "code",
   "execution_count": 16,
   "id": "d4798057",
   "metadata": {},
   "outputs": [
    {
     "name": "stdout",
     "output_type": "stream",
     "text": [
      "\n",
      "搜索: Python开发经验\n",
      "结果: # 自我评价\n",
      "## None\n",
      "- 自我反思：具有深厚的计算机科学理论基础和丰富的NLP实践经验，擅长通过技术创新解决复杂问题。\n",
      "- 专业技能：精通Python编程、PyTorch、LangChain、Agent架构；熟悉NLP相关算法和预训练模型，如Transformer、BERT、GPT等。熟练使用Pandas、Numpy、Sklearn等数据科学和机器学习库。\n",
      "- 个人优势：具有在大型互联网公...\n",
      "\n",
      "搜索: 机器学习项目\n",
      "结果: # 兴趣爱好\n",
      "## None\n",
      "- 机器学习和人工智能领域的技术博客撰写\n",
      "- 参与开源NLP项目和技术社区活动\n",
      "- 长跑和羽毛球...\n",
      "\n",
      "搜索: LangChain\n",
      "结果: # 项目经历\n",
      "## 基于LangChain的智能问答系统（在线教育平台）\n",
      "- 任务：为一家在线教育平台设计并实现一个基于LangChain的智能问答系统，旨在提供即时、准确的学术支持和课程咨询服务。\n",
      "- 难点：整合广泛的教育资源和文献，提高问答系统对学术术语的理解能力和回答质量。\n",
      "- 解决方案：与教育专家合作开发定制化的知识图谱，利用LangChain进行高效的信息检索和生成，确保回答的专业性和准...\n",
      "\n",
      "搜索: 数据分析\n",
      "结果: # 项目经历\n",
      "## 舆情分析系统（金融领域）\n",
      "- 任务：为一家金融公司开发一个舆情分析系统，旨在从大量的新闻报道和社交媒体帖子中识别并分析与公司相关的情绪倾向。\n",
      "- 难点：处理和分析海量的非结构化文本数据，准确识别出与公司相关的命名实体，如股票代码、产品名称等，并对文本进行情感倾向分析。\n",
      "- 解决方案：采用自然语言处理技术进行命名实体识别，利用机器学习模型进行情感分析。通过Pandas进行数据清洗...\n"
     ]
    }
   ],
   "source": [
    "# 测试向量搜索功能\n",
    "test_queries = [\"Python开发经验\", \"机器学习项目\", \"LangChain\", \"数据分析\"]\n",
    "\n",
    "for query in test_queries:\n",
    "    print(f\"\\n搜索: {query}\")\n",
    "    result = find_most_relevant_block_from_cv_qdrant.invoke(query)\n",
    "    print(f\"结果: {result[:200]}...\")  # 只显示前200个字符"
   ]
  },
  {
   "cell_type": "code",
   "execution_count": null,
   "id": "98ee9137-3202-4663-97b7-a124e7b3b927",
   "metadata": {},
   "outputs": [],
   "source": []
  },
  {
   "cell_type": "code",
   "execution_count": null,
   "id": "1dded7c9-827b-428a-b42c-c48eeb08bd9e",
   "metadata": {},
   "outputs": [],
   "source": []
  },
  {
   "cell_type": "code",
   "execution_count": null,
   "id": "6d39817b-57ab-4684-869d-8fe68056325b",
   "metadata": {},
   "outputs": [],
   "source": []
  },
  {
   "cell_type": "code",
   "execution_count": null,
   "id": "d583eea9-098e-4927-99e5-a484fe8a17fa",
   "metadata": {},
   "outputs": [],
   "source": []
  },
  {
   "cell_type": "code",
   "execution_count": null,
   "id": "d5a19ad8-016e-436f-807c-37248e5d1d23",
   "metadata": {},
   "outputs": [],
   "source": []
  }
 ],
 "metadata": {
  "kernelspec": {
   "display_name": "Python 3 (ipykernel)",
   "language": "python",
   "name": "python3"
  },
  "language_info": {
   "codemirror_mode": {
    "name": "ipython",
    "version": 3
   },
   "file_extension": ".py",
   "mimetype": "text/x-python",
   "name": "python",
   "nbconvert_exporter": "python",
   "pygments_lexer": "ipython3",
   "version": "3.11.13"
  }
 },
 "nbformat": 4,
 "nbformat_minor": 5
}
