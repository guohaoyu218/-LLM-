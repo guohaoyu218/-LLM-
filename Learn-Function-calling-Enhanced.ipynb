{
 "cells": [
  {
   "cell_type": "markdown",
   "id": "4790114a",
   "metadata": {},
   "source": [
    "# Learn-Function-calling-Enhanced\n",
    "\n",
    "参考文档：[https://platform.openai.com/docs/guides/function-calling](https://platform.openai.com/docs/guides/function-calling)\n",
    "\n",
    "参考API：[https://platform.openai.com/docs/api-reference/chat/create](https://platform.openai.com/docs/api-reference/chat/create)\n",
    "\n",
    "## 增强特性\n",
    "- 保持原有Function Calling逻辑\n",
    "- 添加本地模型集成示例\n",
    "- Python 3.11优化"
   ]
  },
  {
   "cell_type": "markdown",
   "id": "ab4daa43",
   "metadata": {},
   "source": [
    "# Function calling 函数调用 - 增强版\n",
    "\n",
    "Learn how to connect large language models to external tools.\n",
    "\n",
    "了解如何将大型语言模型连接到外部工具。"
   ]
  },
  {
   "cell_type": "markdown",
   "id": "8c42bf51",
   "metadata": {},
   "source": [
    "Example invoking multiple function calls in one response\n",
    "\n",
    "在一个响应中调用多个函数调用的示例"
   ]
  },
  {
   "cell_type": "code",
   "execution_count": 1,
   "id": "068c9ac6",
   "metadata": {},
   "outputs": [
    {
     "name": "stdout",
     "output_type": "stream",
     "text": [
      "✅ DeepSeek API Key 已配置\n",
      "🚀 Function Calling使用DeepSeek模型\n"
     ]
    }
   ],
   "source": [
    "import os\n",
    "from dotenv import load_dotenv, find_dotenv\n",
    "\n",
    "load_dotenv(find_dotenv())\n",
    "\n",
    "\n",
    "\n",
    "# 检查DeepSeek API Key\n",
    "if os.getenv('DEEPSEEK_API_KEY'):\n",
    "    print(\"✅ DeepSeek API Key 已配置\")\n",
    "    print(\"🚀 Function Calling使用DeepSeek模型\")\n",
    "else:\n",
    "    print(\"❌ 请在.env文件中配置DEEPSEEK_API_KEY\")\n",
    "    raise ValueError(\"DeepSeek API Key未配置\")"
   ]
  },
  {
   "cell_type": "code",
   "execution_count": null,
   "id": "cb258aaa-454b-4b70-9610-0dc7d851e9e2",
   "metadata": {},
   "outputs": [],
   "source": []
  },
  {
   "cell_type": "code",
   "execution_count": 2,
   "id": "99414ed0",
   "metadata": {},
   "outputs": [
    {
     "name": "stdout",
     "output_type": "stream",
     "text": [
      "🧠 DeepSeek客户端初始化完成\n",
      "🇨🇳 支持Function Calling功能\n"
     ]
    }
   ],
   "source": [
    "from openai import OpenAI\n",
    "import json\n",
    "import os\n",
    "\n",
    "# 使用DeepSeek API\n",
    "client = OpenAI(\n",
    "    api_key=os.getenv(\"DEEPSEEK_API_KEY\"),\n",
    "    base_url=\"https://api.deepseek.com\"\n",
    ")\n",
    "\n",
    "print(\"🧠 DeepSeek客户端初始化完成\")\n",
    "print(\"🇨🇳 支持Function Calling功能\")\n",
    "\n",
    "# Example dummy function hard coded to return the same weather\n",
    "# In production, this could be your backend API or an external API\n",
    "def get_current_weather(location, unit=\"fahrenheit\"): \n",
    "    \"\"\"Get the current weather in a given location\"\"\"\n",
    "    if \"tokyo\" in location.lower():\n",
    "        return json.dumps({\"location\": \"Tokyo\", \"temperature\": \"10\", \"unit\": unit})\n",
    "    elif \"san francisco\" in location.lower():\n",
    "        return json.dumps({\"location\": \"San Francisco\", \"temperature\": \"72\", \"unit\": unit})\n",
    "    elif \"paris\" in location.lower():\n",
    "        return json.dumps({\"location\": \"Paris\", \"temperature\": \"22\", \"unit\": unit})\n",
    "    elif \"beijing\" in location.lower() or \"北京\" in location:\n",
    "        return json.dumps({\"location\": \"北京\", \"temperature\": \"15\", \"unit\": unit})\n",
    "    elif \"shanghai\" in location.lower() or \"上海\" in location:\n",
    "        return json.dumps({\"location\": \"上海\", \"temperature\": \"25\", \"unit\": unit})\n",
    "    else:\n",
    "        return json.dumps({\"location\": location, \"temperature\": \"unknown\"})"
   ]
  },
  {
   "cell_type": "code",
   "execution_count": null,
   "id": "67cc2338-222c-45ba-8348-e245b54094fc",
   "metadata": {},
   "outputs": [],
   "source": []
  },
  {
   "cell_type": "code",
   "execution_count": 3,
   "id": "8abd1532",
   "metadata": {},
   "outputs": [
    {
     "name": "stdout",
     "output_type": "stream",
     "text": [
      "🚀 DeepSeek Function Calling函数定义完成\n"
     ]
    }
   ],
   "source": [
    "def run_conversation():\n",
    "    # Step 1: send the conversation and available functions to the model\n",
    "    messages = [{\"role\": \"user\", \"content\": \"What's the weather like in San Francisco, Tokyo, Beijing, and Paris?\"}]\n",
    "    tools = [\n",
    "        {\n",
    "            \"type\": \"function\",\n",
    "            \"function\": {\n",
    "                \"name\": \"get_current_weather\",\n",
    "                \"description\": \"Get the current weather in a given location\",\n",
    "                \"parameters\": {\n",
    "                    \"type\": \"object\",\n",
    "                    \"properties\": {\n",
    "                        \"location\": {\n",
    "                            \"type\": \"string\",\n",
    "                            \"description\": \"The city and state, e.g. San Francisco, CA\",\n",
    "                        },\n",
    "                        \"unit\": {\"type\": \"string\", \"enum\": [\"celsius\", \"fahrenheit\"]},\n",
    "                    },\n",
    "                    \"required\": [\"location\"],\n",
    "                },\n",
    "            },\n",
    "        }\n",
    "    ]\n",
    "    \n",
    "    # 使用DeepSeek模型进行Function Calling\n",
    "    response = client.chat.completions.create(\n",
    "        model=\"deepseek-chat\",\n",
    "        messages=messages,\n",
    "        tools=tools,\n",
    "        tool_choice=\"auto\",  # auto is default, but we'll be explicit\n",
    "    )\n",
    "    print(\"=== 第一次DeepSeek响应 ===\")\n",
    "    print(response)\n",
    "    response_message = response.choices[0].message\n",
    "    print(\"\\n=== 响应消息 ===\")\n",
    "    print(response_message)\n",
    "    tool_calls = response_message.tool_calls\n",
    "    print(\"\\n=== 工具调用 ===\")\n",
    "    print(tool_calls)\n",
    "    \n",
    "    # Step 2: check if the model wanted to call a function\n",
    "    if tool_calls:\n",
    "        # Step 3: call the function\n",
    "        available_functions = {\n",
    "            \"get_current_weather\": get_current_weather,\n",
    "        }  # only one function in this example, but you can have multiple\n",
    "        messages.append(response_message)  # extend conversation with assistant's reply\n",
    "        # Step 4: send the info for each function call and function response to the model\n",
    "        for tool_call in tool_calls:\n",
    "            function_name = tool_call.function.name\n",
    "            function_to_call = available_functions[function_name]\n",
    "            function_args = json.loads(tool_call.function.arguments)\n",
    "            function_response = function_to_call(\n",
    "                location=function_args.get(\"location\"),\n",
    "                unit=function_args.get(\"unit\"),\n",
    "            )\n",
    "            print(f\"\\n🔧 调用函数 {function_name}，参数: {function_args}，结果: {function_response}\")\n",
    "            messages.append(\n",
    "                {\n",
    "                    \"tool_call_id\": tool_call.id,\n",
    "                    \"role\": \"tool\",\n",
    "                    \"name\": function_name,\n",
    "                    \"content\": function_response,\n",
    "                }\n",
    "            )  # extend conversation with function response\n",
    "        second_response = client.chat.completions.create(\n",
    "            model=\"deepseek-chat\",\n",
    "            messages=messages,\n",
    "        )  # get a new response from the model where it can see the function response\n",
    "        return second_response\n",
    "\n",
    "print(\"🚀 DeepSeek Function Calling函数定义完成\")"
   ]
  },
  {
   "cell_type": "code",
   "execution_count": null,
   "id": "1266432d-1c7a-47d0-a1e4-040cc88bcfbb",
   "metadata": {},
   "outputs": [],
   "source": []
  },
  {
   "cell_type": "markdown",
   "id": "de3caec8",
   "metadata": {},
   "source": [
    "## Function Calling 实现说明\n",
    "\n",
    "这段代码演示了如何使用DeepSeek模型进行Function Calling，让我逐步解释代码：\n",
    "\n",
    "**核心组件**：\n",
    "1. **DeepSeek客户端**: 通过配置API Key和base_url连接到DeepSeek服务\n",
    "2. **工具函数**: get_current_weather函数模拟外部API调用\n",
    "3. **对话处理**: run_conversation()函数负责整个Function Calling流程\n",
    "\n",
    "**执行流程**：\n",
    "a. 首先，构造包含用户消息和可用功能的消息列表和工具列表\n",
    "b. 调用client.chat.completions.create()发送对话和工具信息给DeepSeek模型\n",
    "c. DeepSeek模型分析是否需要调用函数，tool_choice=\"auto\"表示自动选择\n",
    "d. 如果需要调用函数，根据返回信息调用相应函数并获取结果\n",
    "e. 将函数结果添加到对话中，再次发送给DeepSeek模型获取最终回复\n",
    "\n",
    "**技术优势**：\n",
    "- 🇨🇳 DeepSeek对中文理解更好，Function Calling更准确\n",
    "- 💰 成本比OpenAI GPT模型低很多\n",
    "- 🔧 支持复杂的工具调用和多轮对话\n",
    "- 🚀 可以与本地BGE模型结合，实现完全本土化的AI应用"
   ]
  },
  {
   "cell_type": "code",
   "execution_count": 4,
   "id": "8ee5464a",
   "metadata": {},
   "outputs": [
    {
     "name": "stdout",
     "output_type": "stream",
     "text": [
      "=== 第一次DeepSeek响应 ===\n",
      "ChatCompletion(id='e3caac0e-02d7-42e6-9fa4-5b4319914adb', choices=[Choice(finish_reason='tool_calls', index=0, logprobs=None, message=ChatCompletionMessage(content='', refusal=None, role='assistant', annotations=None, audio=None, function_call=None, tool_calls=[ChatCompletionMessageToolCall(id='call_0_4fd29ac6-0d99-44b7-bc42-b6fb41252103', function=Function(arguments='{\"location\": \"San Francisco, CA\"}', name='get_current_weather'), type='function', index=0), ChatCompletionMessageToolCall(id='call_1_5567322e-18f1-4c63-ab8c-3f7de7578b64', function=Function(arguments='{\"location\": \"Tokyo\"}', name='get_current_weather'), type='function', index=1), ChatCompletionMessageToolCall(id='call_2_21c495fc-592c-4eac-90fb-c9af377686b5', function=Function(arguments='{\"location\": \"Beijing\"}', name='get_current_weather'), type='function', index=2), ChatCompletionMessageToolCall(id='call_3_b4653b24-e82e-49ec-a1d9-c8ebdb5bf929', function=Function(arguments='{\"location\": \"Paris\"}', name='get_current_weather'), type='function', index=3)]))], created=1753782776, model='deepseek-chat', object='chat.completion', service_tier=None, system_fingerprint='fp_8802369eaa_prod0623_fp8_kvcache', usage=CompletionUsage(completion_tokens=84, prompt_tokens=171, total_tokens=255, completion_tokens_details=None, prompt_tokens_details=PromptTokensDetails(audio_tokens=None, cached_tokens=0), prompt_cache_hit_tokens=0, prompt_cache_miss_tokens=171))\n",
      "\n",
      "=== 响应消息 ===\n",
      "ChatCompletionMessage(content='', refusal=None, role='assistant', annotations=None, audio=None, function_call=None, tool_calls=[ChatCompletionMessageToolCall(id='call_0_4fd29ac6-0d99-44b7-bc42-b6fb41252103', function=Function(arguments='{\"location\": \"San Francisco, CA\"}', name='get_current_weather'), type='function', index=0), ChatCompletionMessageToolCall(id='call_1_5567322e-18f1-4c63-ab8c-3f7de7578b64', function=Function(arguments='{\"location\": \"Tokyo\"}', name='get_current_weather'), type='function', index=1), ChatCompletionMessageToolCall(id='call_2_21c495fc-592c-4eac-90fb-c9af377686b5', function=Function(arguments='{\"location\": \"Beijing\"}', name='get_current_weather'), type='function', index=2), ChatCompletionMessageToolCall(id='call_3_b4653b24-e82e-49ec-a1d9-c8ebdb5bf929', function=Function(arguments='{\"location\": \"Paris\"}', name='get_current_weather'), type='function', index=3)])\n",
      "\n",
      "=== 工具调用 ===\n",
      "[ChatCompletionMessageToolCall(id='call_0_4fd29ac6-0d99-44b7-bc42-b6fb41252103', function=Function(arguments='{\"location\": \"San Francisco, CA\"}', name='get_current_weather'), type='function', index=0), ChatCompletionMessageToolCall(id='call_1_5567322e-18f1-4c63-ab8c-3f7de7578b64', function=Function(arguments='{\"location\": \"Tokyo\"}', name='get_current_weather'), type='function', index=1), ChatCompletionMessageToolCall(id='call_2_21c495fc-592c-4eac-90fb-c9af377686b5', function=Function(arguments='{\"location\": \"Beijing\"}', name='get_current_weather'), type='function', index=2), ChatCompletionMessageToolCall(id='call_3_b4653b24-e82e-49ec-a1d9-c8ebdb5bf929', function=Function(arguments='{\"location\": \"Paris\"}', name='get_current_weather'), type='function', index=3)]\n",
      "\n",
      "🔧 调用函数 get_current_weather，参数: {'location': 'San Francisco, CA'}，结果: {\"location\": \"San Francisco\", \"temperature\": \"72\", \"unit\": null}\n",
      "\n",
      "🔧 调用函数 get_current_weather，参数: {'location': 'Tokyo'}，结果: {\"location\": \"Tokyo\", \"temperature\": \"10\", \"unit\": null}\n",
      "\n",
      "🔧 调用函数 get_current_weather，参数: {'location': 'Beijing'}，结果: {\"location\": \"\\u5317\\u4eac\", \"temperature\": \"15\", \"unit\": null}\n",
      "\n",
      "🔧 调用函数 get_current_weather，参数: {'location': 'Paris'}，结果: {\"location\": \"Paris\", \"temperature\": \"22\", \"unit\": null}\n",
      "\n",
      "=== 最终结果 ===\n",
      "ChatCompletion(id='938fa54e-f602-46ec-9e1c-ff21a98c30bc', choices=[Choice(finish_reason='stop', index=0, logprobs=None, message=ChatCompletionMessage(content=\"Here's the current weather in each city:  \\n\\n- **San Francisco**: 72°F (temperature unit not specified, but likely Fahrenheit)  \\n- **Tokyo**: 10°C (temperature unit not specified, but likely Celsius)  \\n- **Beijing (北京)**: 15°C (temperature unit not specified, but likely Celsius)  \\n- **Paris**: 22°C (temperature unit not specified, but likely Celsius)  \\n\\nLet me know if you'd like more details!\", refusal=None, role='assistant', annotations=None, audio=None, function_call=None, tool_calls=None))], created=1753782783, model='deepseek-chat', object='chat.completion', service_tier=None, system_fingerprint='fp_8802369eaa_prod0623_fp8_kvcache', usage=CompletionUsage(completion_tokens=100, prompt_tokens=192, total_tokens=292, completion_tokens_details=None, prompt_tokens_details=PromptTokensDetails(audio_tokens=None, cached_tokens=0), prompt_cache_hit_tokens=0, prompt_cache_miss_tokens=192))\n"
     ]
    }
   ],
   "source": [
    "result = run_conversation()\n",
    "print(\"\\n=== 最终结果 ===\")\n",
    "print(result)"
   ]
  },
  {
   "cell_type": "code",
   "execution_count": null,
   "id": "919c890d-6cd4-4999-828e-2d549ea10b86",
   "metadata": {},
   "outputs": [],
   "source": []
  },
  {
   "cell_type": "code",
   "execution_count": 5,
   "id": "9279844a",
   "metadata": {},
   "outputs": [
    {
     "name": "stdout",
     "output_type": "stream",
     "text": [
      "=== 最终回答 ===\n",
      "Here's the current weather in each city:  \n",
      "\n",
      "- **San Francisco**: 72°F (temperature unit not specified, but likely Fahrenheit)  \n",
      "- **Tokyo**: 10°C (temperature unit not specified, but likely Celsius)  \n",
      "- **Beijing (北京)**: 15°C (temperature unit not specified, but likely Celsius)  \n",
      "- **Paris**: 22°C (temperature unit not specified, but likely Celsius)  \n",
      "\n",
      "Let me know if you'd like more details!\n"
     ]
    }
   ],
   "source": [
    "print(\"=== 最终回答 ===\")\n",
    "print(result.choices[0].message.content)"
   ]
  },
  {
   "cell_type": "code",
   "execution_count": null,
   "id": "2f07ee67-e6a3-4084-81b4-ddfbe08ed488",
   "metadata": {},
   "outputs": [],
   "source": []
  },
  {
   "cell_type": "markdown",
   "id": "0fb891bb",
   "metadata": {},
   "source": [
    "## 增强示例：结合本地模型的Function Calling"
   ]
  },
  {
   "cell_type": "code",
   "execution_count": 6,
   "id": "097901fb",
   "metadata": {},
   "outputs": [
    {
     "name": "stderr",
     "output_type": "stream",
     "text": [
      "C:\\study_software2\\Anaconda\\envs\\py311_MockInterview\\Lib\\site-packages\\tqdm\\auto.py:21: TqdmWarning: IProgress not found. Please update jupyter and ipywidgets. See https://ipywidgets.readthedocs.io/en/stable/user_install.html\n",
      "  from .autonotebook import tqdm as notebook_tqdm\n"
     ]
    },
    {
     "name": "stdout",
     "output_type": "stream",
     "text": [
      "📁 使用BGE模型路径: C:\\Users\\guohaoyu\\.cache\\huggingface\\hub\\models--BAAI--bge-small-zh-v1.5\\snapshots\\7999e1d3359715c523056ef9478215996d62a620\n",
      "✅ BGE本地模型加载成功\n",
      "🔍 搜索结果: {'best_document': 'LangChain是用于构建AI应用的框架', 'similarity_score': 0.7385997772216797, 'index': 2}\n",
      "✅ DeepSeek + BGE本地模型组合测试完成\n"
     ]
    }
   ],
   "source": [
    "# 演示如何将Function Calling与本地嵌入模型结合\n",
    "from sentence_transformers import SentenceTransformer\n",
    "import numpy as np\n",
    "import os\n",
    "\n",
    "# 使用环境变量配置的BGE模型路径\n",
    "model_path = os.getenv('BGE_MODEL_PATH', \"BAAI/bge-small-zh-v1.5\")\n",
    "print(f\"📁 使用BGE模型路径: {model_path}\")\n",
    "\n",
    "try:\n",
    "    local_model = SentenceTransformer(model_path)\n",
    "    print(\"✅ BGE本地模型加载成功\")\n",
    "except Exception as e:\n",
    "    print(f\"⚠️ BGE模型加载失败: {e}\")\n",
    "    print(\"💡 将使用在线模型作为备选\")\n",
    "    local_model = SentenceTransformer(\"BAAI/bge-small-zh-v1.5\")\n",
    "\n",
    "def semantic_search_function(query, documents):\n",
    "    \"\"\"使用本地BGE模型进行语义搜索\"\"\"\n",
    "    # 对查询进行编码\n",
    "    query_embedding = local_model.encode([query])\n",
    "    \n",
    "    # 对文档进行编码\n",
    "    doc_embeddings = local_model.encode(documents)\n",
    "    \n",
    "    # 计算相似度\n",
    "    similarities = np.dot(query_embedding, doc_embeddings.T)[0]\n",
    "    \n",
    "    # 返回最相似的文档\n",
    "    best_idx = np.argmax(similarities)\n",
    "    return {\n",
    "        \"best_document\": documents[best_idx],\n",
    "        \"similarity_score\": float(similarities[best_idx]),\n",
    "        \"index\": int(best_idx)\n",
    "    }\n",
    "\n",
    "# 测试本地语义搜索\n",
    "test_docs = [\n",
    "    \"Python是一门编程语言\",\n",
    "    \"机器学习是人工智能的分支\", \n",
    "    \"LangChain是用于构建AI应用的框架\",\n",
    "    \"Qdrant是向量数据库\",\n",
    "    \"DeepSeek是国产大语言模型\"\n",
    "]\n",
    "\n",
    "result = semantic_search_function(\"什么是AI框架\", test_docs)\n",
    "print(f\"🔍 搜索结果: {result}\")\n",
    "\n",
    "print(\"✅ DeepSeek + BGE本地模型组合测试完成\")"
   ]
  },
  {
   "cell_type": "code",
   "execution_count": null,
   "id": "0da8268a-ee18-4edf-b418-2dffff870383",
   "metadata": {},
   "outputs": [],
   "source": []
  }
 ],
 "metadata": {
  "kernelspec": {
   "display_name": "Python 3 (ipykernel)",
   "language": "python",
   "name": "python3"
  },
  "language_info": {
   "codemirror_mode": {
    "name": "ipython",
    "version": 3
   },
   "file_extension": ".py",
   "mimetype": "text/x-python",
   "name": "python",
   "nbconvert_exporter": "python",
   "pygments_lexer": "ipython3",
   "version": "3.11.13"
  }
 },
 "nbformat": 4,
 "nbformat_minor": 5
}
