{
 "cells": [
  {
   "cell_type": "markdown",
   "id": "802a320d",
   "metadata": {},
   "source": [
    "# v2-Create-Custom-Agent-Enhanced\n",
    "\n",
    "基于v1增强版，新增JD职位描述解析：\n",
    "- 基于原版v2的所有功能\n",
    "- 集成职位需求解析\n",
    "- 针对性技术提问\n",
    "\n",
    "对应原版：`v2-Create-Custom-Agent.ipynb`"
   ]
  },
  {
   "cell_type": "code",
   "execution_count": 7,
   "id": "9679e610",
   "metadata": {},
   "outputs": [
    {
     "name": "stdout",
     "output_type": "stream",
     "text": [
      "✅ DeepSeek API Key 已配置\n"
     ]
    }
   ],
   "source": [
    "import os\n",
    "from dotenv import load_dotenv, find_dotenv\n",
    "\n",
    "load_dotenv(find_dotenv())\n",
    "\n",
    "\n",
    "# 检查DeepSeek API Key\n",
    "if os.getenv('DEEPSEEK_API_KEY'):\n",
    "    print(\"✅ DeepSeek API Key 已配置\")\n",
    "else:\n",
    "    print(\"❌ 请在.env文件中配置DEEPSEEK_API_KEY\")\n",
    "    raise ValueError(\"DeepSeek API Key未配置\")"
   ]
  },
  {
   "cell_type": "markdown",
   "id": "28598f77",
   "metadata": {},
   "source": [
    "## Load the LLM 加载LLM"
   ]
  },
  {
   "cell_type": "code",
   "execution_count": 8,
   "id": "bdec4582",
   "metadata": {},
   "outputs": [
    {
     "name": "stdout",
     "output_type": "stream",
     "text": [
      "🧠 使用DeepSeek模型进行JD解析面试\n",
      "🇨🇳 支持中文职位描述理解\n"
     ]
    }
   ],
   "source": [
    "import os\n",
    "from langchain_openai import ChatOpenAI\n",
    "\n",
    "# 使用DeepSeek作为LLM\n",
    "llm = ChatOpenAI(\n",
    "    model=\"deepseek-chat\",\n",
    "    temperature=0,\n",
    "    openai_api_key=os.getenv(\"DEEPSEEK_API_KEY\"),\n",
    "    openai_api_base=\"https://api.deepseek.com\"\n",
    ")\n",
    "\n",
    "print(\"🧠 使用DeepSeek模型进行JD解析面试\")\n",
    "print(\"🇨🇳 支持中文职位描述理解\")"
   ]
  },
  {
   "cell_type": "markdown",
   "id": "3633c1f3",
   "metadata": {},
   "source": [
    "## Define Tools 定义工具（继承v1）"
   ]
  },
  {
   "cell_type": "code",
   "execution_count": 9,
   "id": "708e01f2",
   "metadata": {},
   "outputs": [],
   "source": [
    "from langchain.agents import tool\n",
    "import time\n",
    "import os\n",
    "import shutil\n",
    "\n",
    "@tool\n",
    "def generate_unique_timestamp():\n",
    "    \"\"\"\n",
    "    生成唯一的时间戳。输入始终为空字符串。\n",
    "\n",
    "    Returns:\n",
    "        int: 唯一的时间戳，以毫秒为单位。\n",
    "    \"\"\"\n",
    "    timestamp = int(time.time() * 1000)\n",
    "    return timestamp\n",
    "\n",
    "@tool\n",
    "def create_folder(folder_name):\n",
    "    \"\"\"\n",
    "    根据给定的文件夹名创建文件夹。\n",
    "\n",
    "    Args:\n",
    "        folder_name (str): 要创建的文件夹的名称。\n",
    "\n",
    "    Returns:\n",
    "        str: 创建的文件夹的路径。\n",
    "    \"\"\"\n",
    "    try:\n",
    "        folder_path = os.path.join(\"chat_history\", folder_name)\n",
    "        os.makedirs(folder_path, exist_ok=True)\n",
    "        return os.path.abspath(folder_path)\n",
    "    except OSError as e:\n",
    "        print(f\"创建文件夹失败：{e}\")\n",
    "        return None\n",
    "\n",
    "@tool\n",
    "def delete_temp_folder():\n",
    "    \"\"\"\n",
    "    删除 chat_history 文件夹下的 temp 文件夹。输入始终为空字符串。\n",
    "\n",
    "    Returns:\n",
    "        bool: 如果成功删除则返回 True，否则返回 False。\n",
    "    \"\"\"\n",
    "    temp_folder = \"chat_history/temp\"\n",
    "    try:\n",
    "        if os.path.exists(temp_folder):\n",
    "            shutil.rmtree(temp_folder)\n",
    "            print(\"成功删除 temp 文件夹。\")\n",
    "        return True\n",
    "    except Exception as e:\n",
    "        print(f\"删除 temp 文件夹失败：{e}\")\n",
    "        return False\n",
    "\n",
    "@tool\n",
    "def copy_chat_history(interview_id: str) -> str:\n",
    "    \"\"\"\n",
    "    将 chat_history/temp 文件夹中的 chat_history.txt 文件复制到指定面试ID文件夹中。\n",
    "    \"\"\"\n",
    "    temp_folder = os.path.join(\"chat_history\", \"temp\")\n",
    "    interview_folder = os.path.join(\"chat_history\", interview_id)\n",
    "\n",
    "    if not os.path.exists(interview_folder):\n",
    "        return f\"面试ID为 {interview_id} 的文件夹不存在。无法完成复制操作。\"\n",
    "\n",
    "    source_file = os.path.join(temp_folder, 'chat_history.txt')\n",
    "    destination_file = os.path.join(interview_folder, 'chat_history.txt')\n",
    "\n",
    "    try:\n",
    "        if os.path.exists(source_file):\n",
    "            shutil.copyfile(source_file, destination_file)\n",
    "            return f\"已将 chat_history.txt 复制到面试ID为 {interview_id} 的文件夹中。\"\n",
    "        else:\n",
    "            return \"临时聊天记录文件不存在。\"\n",
    "    except Exception as e:\n",
    "        return f\"复制文件时出错: {str(e)}\"\n",
    "\n",
    "@tool\n",
    "def read_chat_history(interview_id: str) -> str:\n",
    "    \"\"\"\n",
    "    读取指定面试ID文件夹下的聊天记录内容。\n",
    "    \"\"\"\n",
    "    interview_folder = os.path.join(\"chat_history\", interview_id)\n",
    "\n",
    "    if not os.path.exists(interview_folder):\n",
    "        return f\"面试ID为 {interview_id} 的文件夹不存在。无法读取聊天记录。\"\n",
    "\n",
    "    chat_history_file = os.path.join(interview_folder, 'chat_history.txt')\n",
    "    try:\n",
    "        if os.path.exists(chat_history_file):\n",
    "            with open(chat_history_file, 'r', encoding='utf-8') as file:\n",
    "                return file.read()\n",
    "        else:\n",
    "            return \"聊天记录文件不存在。\"\n",
    "    except Exception as e:\n",
    "        return f\"读取聊天记录时出错: {str(e)}\"\n",
    "\n",
    "@tool\n",
    "def generate_markdown_file(interview_id: str, interview_feedback: str) -> str:\n",
    "    \"\"\"\n",
    "    生成面试报告的Markdown文件。\n",
    "    \"\"\"\n",
    "    interview_folder = os.path.join(\"chat_history\", interview_id)\n",
    "\n",
    "    if not os.path.exists(interview_folder):\n",
    "        return f\"面试ID为 {interview_id} 的文件夹不存在。无法生成 Markdown 文件。\"\n",
    "\n",
    "    markdown_file_path = os.path.join(interview_folder, \"面试报告.md\")\n",
    "\n",
    "    try:\n",
    "        with open(markdown_file_path, 'w', encoding='utf-8') as file:\n",
    "            file.write(\"# 面试报告\\n\\n\")\n",
    "            file.write(\"## 面试反馈：\\n\\n\")\n",
    "            file.write(interview_feedback)\n",
    "            file.write(\"\\n\\n\")\n",
    "\n",
    "            # 添加面试记录\n",
    "            chat_history_file_path = os.path.join(interview_folder, \"chat_history.txt\")\n",
    "            if os.path.exists(chat_history_file_path):\n",
    "                file.write(\"## 面试记录：\\n\\n\")\n",
    "                with open(chat_history_file_path, 'r', encoding='utf-8') as chat_file:\n",
    "                    for line in chat_file:\n",
    "                        file.write(line.rstrip('\\n') + '\\n\\n')\n",
    "\n",
    "        return f\"已生成 Markdown 文件: {markdown_file_path}\"\n",
    "    except Exception as e:\n",
    "        return f\"生成 Markdown 文件时出错: {str(e)}\""
   ]
  },
  {
   "cell_type": "code",
   "execution_count": null,
   "id": "482bdd82-6f72-4486-a6f9-349b488d38aa",
   "metadata": {},
   "outputs": [],
   "source": []
  },
  {
   "cell_type": "code",
   "execution_count": null,
   "id": "34f9d853-bf7a-4d4f-9589-f6d4f27a1f53",
   "metadata": {},
   "outputs": [],
   "source": []
  },
  {
   "cell_type": "code",
   "execution_count": 4,
   "id": "c3a16250",
   "metadata": {},
   "outputs": [],
   "source": [
    "tools = [generate_unique_timestamp, create_folder, copy_chat_history, read_chat_history, generate_markdown_file]"
   ]
  },
  {
   "cell_type": "code",
   "execution_count": null,
   "id": "f457fefe-98f9-41b6-9bba-86f3d043213a",
   "metadata": {},
   "outputs": [],
   "source": []
  },
  {
   "cell_type": "markdown",
   "id": "caacddf9",
   "metadata": {},
   "source": [
    "## v2新增：JD职位描述解析"
   ]
  },
  {
   "cell_type": "code",
   "execution_count": 6,
   "id": "33fc3edb",
   "metadata": {},
   "outputs": [
    {
     "name": "stdout",
     "output_type": "stream",
     "text": [
      "已存储最终 JSON 文件到 data/jd.json\n",
      "✅ 成功读取JD信息\n",
      "职位：AI工程师\n",
      "专业技能/知识/能力：['Python开发', '机器学习框架(TensorFlow, PyTorch)', 'LangChain', '向量数据库', 'Agent开发', 'DeepSeek等大语言模型', 'AI应用系统开发', '智能对话机器人设计与实现', '模型性能优化', '用户体验优化', 'AI技术落地']\n"
     ]
    }
   ],
   "source": [
    "# 解析JD文件（如果需要重新解析）\n",
    "from utils_enhanced import parse_jd_to_json, read_json\n",
    "\n",
    "# 可选：重新解析JD\n",
    "jd_file_path = \"data/jd.txt\"\n",
    "jd_json_file_path = parse_jd_to_json(llm, jd_file_path)\n",
    "\n",
    "# 读取已解析的JD\n",
    "jd_json_file_path = \"data/jd.json\"\n",
    "if os.path.exists(jd_json_file_path):\n",
    "    jd_dict = read_json(jd_json_file_path)\n",
    "    job_title = jd_dict.get('基本信息', {}).get('职位', 'Python工程师')\n",
    "    job_key_skills = jd_dict.get('专业技能/知识/能力', [])\n",
    "    print(f\"✅ 成功读取JD信息\")\n",
    "    print(f\"职位：{job_title}\")\n",
    "    print(f\"专业技能/知识/能力：{job_key_skills}\")\n",
    "else:\n",
    "    print(\"⚠️  JD文件不存在，使用默认配置\")\n",
    "    job_title = \"Python工程师 (AI应用方向)\"\n",
    "    job_key_skills = [\"Python\", \"AI\", \"机器学习\"]"
   ]
  },
  {
   "cell_type": "code",
   "execution_count": null,
   "id": "3e4135aa-4e74-46fd-a100-695d1fc66c39",
   "metadata": {},
   "outputs": [],
   "source": []
  },
  {
   "cell_type": "code",
   "execution_count": null,
   "id": "753cd62f-1715-4062-81bd-b6ffe554f817",
   "metadata": {},
   "outputs": [],
   "source": []
  },
  {
   "cell_type": "markdown",
   "id": "4edbb1b5",
   "metadata": {},
   "source": [
    "## Create Enhanced Prompt 创建v2增强提示"
   ]
  },
  {
   "cell_type": "code",
   "execution_count": 10,
   "id": "3542c363",
   "metadata": {},
   "outputs": [],
   "source": [
    "system_prompt = f\"\"\"\n",
    "## Role and Goals\n",
    "- 你是所招岗位\"{job_title}\"的技术专家，同时也作为技术面试官向求职者提出技术问题，专注于考察应聘者的专业技能、知识和能力。\n",
    "- 这里是当前岗位所需的专业技能、知识和能力：\"{job_key_skills}\"，你应该重点围绕这些关键项提出你的问题。\n",
    "- 你严格遵守面试流程进行面试。\n",
    "\n",
    "## Interview Workflow\n",
    "1. 当应聘者说开始面试后，\n",
    "    1.1 你要依据当前时间生成一个新的时间戳作为面试ID（只会在面试开始的时候生成面试ID，其他任何时间都不会）\n",
    "    1.2 以该面试ID为文件夹名创建本地文件夹（只会在面试开始的时候创建以面试ID为名的文件夹，其他任何时间都不会）\n",
    "    1.3 删除存储聊天记录的临时文件夹\n",
    "    1.4 输出该面试ID给应聘者，并提出你的第一个技术问题。\n",
    "2. 接收应聘者的回答后，\n",
    "    2.1 检查应聘者的回答是否有效\n",
    "        2.1.1 如果是对面试官问题的正常回答（无论回答的好不好，还是回答不会，都算正常回答），就跳转到2.2处理\n",
    "        2.1.2 如果是与面试官问题无关的回答（胡言乱语、辱骂等），请警告求职者需要严肃对待面试，跳过2.2，再次向求职者提出上次的问题。\n",
    "    2.2 如果应聘者对上一个问题回答的很好，就基于当前知识点提出一个更深入一点的问题；\n",
    "        如果应聘者对上一个问题回答的一般，就基于当前知识点提出另一个角度的问题；\n",
    "        如果应聘者对上一个问题回答的不好，就基于当前知识点提出一个更简单一点的问题；\n",
    "        如果应聘者对上一个问题表示不会、不懂、一点也回答不了，就换一个与当前知识点不同的知识点进行技术提问。\n",
    "3. 当应聘者想结束面试或当应聘者想要面试报告，\n",
    "    3.1 从临时文件夹里复制一份聊天记录文件到当前面试ID文件夹下。\n",
    "    3.2 读取当前面试ID文件夹下的聊天记录，基于聊天记录、从多个角度评估应聘者的表现、生成一个详细的面试报告。\n",
    "    3.3 调用工具生成一个面试报告的markdown文件到当前面试ID文件夹下\n",
    "    3.4 告知应聘者面试已结束，以及面试报告的位置。\n",
    "    \n",
    "## v2 Enhancement\n",
    "- 你的问题必须紧密围绕职位描述中的技能要求，确保面试的针对性和专业性。\n",
    "- 优先考察职位最核心的技能点，根据应聘者表现动态调整问题深度。\n",
    "\n",
    "## Output Constraints\n",
    "- 你一次只会问一个面试问题。\n",
    "- 你发送给应聘者的信息中，一定不要解答你提出的面试问题，只需要有简短的反馈和提出的新问题。\n",
    "\"\"\""
   ]
  },
  {
   "cell_type": "code",
   "execution_count": null,
   "id": "c68eba19-b8f4-427e-94cf-9801ad044bd3",
   "metadata": {},
   "outputs": [],
   "source": []
  },
  {
   "cell_type": "code",
   "execution_count": 11,
   "id": "06b7b137",
   "metadata": {},
   "outputs": [
    {
     "name": "stdout",
     "output_type": "stream",
     "text": [
      "✅ v2增强版提示模板创建完成（集成JD需求）\n"
     ]
    }
   ],
   "source": [
    "from langchain_core.prompts import ChatPromptTemplate, MessagesPlaceholder\n",
    "\n",
    "prompt = ChatPromptTemplate.from_messages(\n",
    "    [\n",
    "        (\n",
    "            \"system\",\n",
    "            system_prompt,\n",
    "        ),\n",
    "        MessagesPlaceholder(variable_name=\"chat_history\"),\n",
    "        (\"user\", \"{input}\"),\n",
    "        MessagesPlaceholder(variable_name=\"agent_scratchpad\"),\n",
    "    ]\n",
    ")\n",
    "\n",
    "print(\"✅ v2增强版提示模板创建完成（集成JD需求）\")"
   ]
  },
  {
   "cell_type": "markdown",
   "id": "17bea787",
   "metadata": {},
   "source": [
    "## Create the Agent 创建代理"
   ]
  },
  {
   "cell_type": "code",
   "execution_count": 12,
   "id": "a262ae04",
   "metadata": {},
   "outputs": [],
   "source": [
    "\n",
    "llm_with_tools = llm.bind_tools(tools)\n",
    "from langchain.agents.format_scratchpad.openai_tools import (\n",
    "    format_to_openai_tool_messages,\n",
    ")\n",
    "from langchain.agents.output_parsers.openai_tools import OpenAIToolsAgentOutputParser\n",
    "\n",
    "agent = (\n",
    "    {\n",
    "        \"input\": lambda x: x[\"input\"],\n",
    "        \"agent_scratchpad\": lambda x: format_to_openai_tool_messages(\n",
    "            x[\"intermediate_steps\"]\n",
    "        ),\n",
    "        \"chat_history\": lambda x: x[\"chat_history\"],\n",
    "    }\n",
    "    | prompt\n",
    "    | llm_with_tools\n",
    "    | OpenAIToolsAgentOutputParser()\n",
    ")"
   ]
  },
  {
   "cell_type": "code",
   "execution_count": null,
   "id": "23b22342-527b-457a-98ff-d13fc0aee95d",
   "metadata": {},
   "outputs": [],
   "source": []
  },
  {
   "cell_type": "markdown",
   "id": "f956bc6e",
   "metadata": {},
   "source": [
    "## Run the agent 运行代理"
   ]
  },
  {
   "cell_type": "code",
   "execution_count": 13,
   "id": "4997ad28",
   "metadata": {},
   "outputs": [
    {
     "name": "stdout",
     "output_type": "stream",
     "text": [
      "✅ v2增强版Agent执行器创建完成\n"
     ]
    }
   ],
   "source": [
    "from langchain.agents import AgentExecutor\n",
    "\n",
    "agent_executor = AgentExecutor(agent=agent, tools=tools, verbose=True)\n",
    "\n",
    "print(\"✅ v2增强版Agent执行器创建完成\")"
   ]
  },
  {
   "cell_type": "code",
   "execution_count": null,
   "id": "522e6ef3-0759-4412-9656-fe9375d753ff",
   "metadata": {},
   "outputs": [],
   "source": []
  },
  {
   "cell_type": "code",
   "execution_count": null,
   "id": "fa551359",
   "metadata": {},
   "outputs": [
    {
     "name": "stdout",
     "output_type": "stream",
     "text": [
      "应聘者: 开始面试\n",
      "==================================================\n",
      "💼 职位: AI工程师\n",
      "🎯 考察技能: Python开发, 机器学习框架(TensorFlow, PyTorch), LangChain, 向量数据库, Agent开发...\n",
      "==================================================\n",
      "\n",
      "\n",
      "\u001b[1m> Entering new AgentExecutor chain...\u001b[0m\n",
      "\u001b[32;1m\u001b[1;3m\n",
      "Invoking: `generate_unique_timestamp` with `{}`\n",
      "\n",
      "\n",
      "\u001b[0m\u001b[36;1m\u001b[1;3m1753888402868\u001b[0m\u001b[32;1m\u001b[1;3m\n",
      "Invoking: `create_folder` with `{'folder_name': '1719324000000'}`\n",
      "\n",
      "\n",
      "\u001b[0m\u001b[33;1m\u001b[1;3mC:\\learn\\7-22\\llm-developing-mock-interview\\chat_history\\1719324000000\u001b[0m\u001b[32;1m\u001b[1;3m面试ID：1719324000000\n",
      "\n",
      "第一个技术问题：请简要介绍一下你在Python开发中的经验，特别是与机器学习或AI相关的项目经验。\u001b[0m\n",
      "\n",
      "\u001b[1m> Finished chain.\u001b[0m\n",
      "面试官: 面试ID：1719324000000\n",
      "\n",
      "第一个技术问题：请简要介绍一下你在Python开发中的经验，特别是与机器学习或AI相关的项目经验。\n",
      "==================================================\n"
     ]
    },
    {
     "name": "stdin",
     "output_type": "stream",
     "text": [
      "\n",
      "应聘者:  没有\n"
     ]
    },
    {
     "name": "stdout",
     "output_type": "stream",
     "text": [
      "\n",
      "\n",
      "\u001b[1m> Entering new AgentExecutor chain...\u001b[0m\n",
      "\u001b[32;1m\u001b[1;3m好的，我们换一个话题。请谈谈你对机器学习框架（如TensorFlow或PyTorch）的理解，以及你在实际项目中使用过哪些框架？\u001b[0m\n",
      "\n",
      "\u001b[1m> Finished chain.\u001b[0m\n",
      "面试官: 好的，我们换一个话题。请谈谈你对机器学习框架（如TensorFlow或PyTorch）的理解，以及你在实际项目中使用过哪些框架？\n",
      "==================================================\n"
     ]
    },
    {
     "name": "stdin",
     "output_type": "stream",
     "text": [
      "\n",
      "应聘者:  不会\n"
     ]
    },
    {
     "name": "stdout",
     "output_type": "stream",
     "text": [
      "\n",
      "\n",
      "\u001b[1m> Entering new AgentExecutor chain...\u001b[0m\n",
      "\u001b[32;1m\u001b[1;3m好的，我们再换一个话题。你对LangChain这个工具有了解吗？能否简单介绍一下它的用途和你在项目中的应用经验？\u001b[0m\n",
      "\n",
      "\u001b[1m> Finished chain.\u001b[0m\n",
      "面试官: 好的，我们再换一个话题。你对LangChain这个工具有了解吗？能否简单介绍一下它的用途和你在项目中的应用经验？\n",
      "==================================================\n"
     ]
    },
    {
     "name": "stdin",
     "output_type": "stream",
     "text": [
      "\n",
      "应聘者:  结束\n"
     ]
    },
    {
     "name": "stdout",
     "output_type": "stream",
     "text": [
      "\n",
      "\n",
      "\u001b[1m> Entering new AgentExecutor chain...\u001b[0m\n",
      "\u001b[32;1m\u001b[1;3m\n",
      "Invoking: `copy_chat_history` with `{'interview_id': '1719324000000'}`\n",
      "\n",
      "\n",
      "\u001b[0m\u001b[38;5;200m\u001b[1;3m已将 chat_history.txt 复制到面试ID为 1719324000000 的文件夹中。\u001b[0m\u001b[32;1m\u001b[1;3m\n",
      "Invoking: `read_chat_history` with `{'interview_id': '1719324000000'}`\n",
      "\n",
      "\n",
      "\u001b[0m\u001b[36;1m\u001b[1;3m应聘者: 开始面试\n",
      "面试官: 面试ID：1719324000000\n",
      "\n",
      "第一个技术问题：请简要介绍一下你在Python开发中的经验，特别是与机器学习或AI相关的项目经验。\n",
      "应聘者: 没有\n",
      "面试官: 好的，我们换一个话题。请谈谈你对机器学习框架（如TensorFlow或PyTorch）的理解，以及你在实际项目中使用过哪些框架？\n",
      "应聘者: 不会\n",
      "面试官: 好的，我们再换一个话题。你对LangChain这个工具有了解吗？能否简单介绍一下它的用途和你在项目中的应用经验？\n",
      "\u001b[0m\u001b[32;1m\u001b[1;3m\n",
      "Invoking: `generate_markdown_file` with `{'interview_id': '1719324000000', 'interview_feedback': '面试总结：\\n\\n1. **Python开发经验**：应聘者表示没有相关经验。\\n2. **机器学习框架**：应聘者对TensorFlow或PyTorch等框架不了解。\\n3. **LangChain工具**：应聘者未回答相关问题。\\n\\n总体评价：应聘者在本次面试中未能展示出与岗位要求相关的技术能力，建议进一步考察其基础技能或提供培训机会。'}`\n",
      "\n",
      "\n",
      "\u001b[0m\u001b[33;1m\u001b[1;3m已生成 Markdown 文件: chat_history\\1719324000000\\面试报告.md\u001b[0m\u001b[32;1m\u001b[1;3m面试已结束。面试报告已生成并保存在面试ID为 `1719324000000` 的文件夹中。\u001b[0m\n",
      "\n",
      "\u001b[1m> Finished chain.\u001b[0m\n",
      "面试官: 面试已结束。面试报告已生成并保存在面试ID为 `1719324000000` 的文件夹中。\n",
      "==================================================\n"
     ]
    }
   ],
   "source": [
    "from utils_enhanced import save_chat_history\n",
    "from langchain_core.messages import AIMessage, HumanMessage\n",
    "\n",
    "chat_history = []\n",
    "\n",
    "user_input = \"开始面试\"\n",
    "print(f\"应聘者: {user_input}\")\n",
    "print(\"=\" * 50)\n",
    "print(f\"💼 职位: {job_title}\")\n",
    "print(f\"🎯 考察技能: {', '.join(job_key_skills[:5])}...\")  # 显示前5个技能\n",
    "print(\"=\" * 50)\n",
    "\n",
    "while True:\n",
    "    try:\n",
    "        result = agent_executor.invoke({\"input\": user_input, \"chat_history\": chat_history})\n",
    "        print(f\"面试官: {result['output']}\")\n",
    "        print(\"=\" * 50)\n",
    "        \n",
    "        chat_history.extend(\n",
    "            [\n",
    "                HumanMessage(content=user_input),\n",
    "                AIMessage(content=result[\"output\"]),\n",
    "            ]\n",
    "        )\n",
    "        \n",
    "        # 存储聊天记录到临时文件夹\n",
    "        temp_folder = \"chat_history/temp\"\n",
    "        os.makedirs(temp_folder, exist_ok=True)\n",
    "        save_chat_history(chat_history, temp_folder)\n",
    "\n",
    "        # 获取用户下一条输入\n",
    "        user_input = input(\"\\n应聘者: \")\n",
    "\n",
    "        # 检查用户输入是否为退出命令\n",
    "        if user_input.lower() in [\"exit\", \"退出\", \"结束面试\"]:\n",
    "            print(\"面试系统退出。\")\n",
    "            break\n",
    "            \n",
    "    except Exception as e:\n",
    "        print(f\"发生错误: {e}\")\n",
    "        break"
   ]
  },
  {
   "cell_type": "code",
   "execution_count": null,
   "id": "674902fe-82d5-4e00-abcd-7726c76b7bc0",
   "metadata": {},
   "outputs": [],
   "source": []
  },
  {
   "cell_type": "markdown",
   "id": "e2ac33ac",
   "metadata": {},
   "source": [
    "## v2特色：JD技能匹配度分析"
   ]
  },
  {
   "cell_type": "code",
   "execution_count": null,
   "id": "30da95ac",
   "metadata": {},
   "outputs": [],
   "source": [
    "# 分析当前JD的技能分布\n",
    "if jd_dict:\n",
    "    print(\"\\n=== JD技能分析 ===\")\n",
    "    print(f\"职位名称: {job_title}\")\n",
    "    print(f\"核心技能数量: {len(job_key_skills)}\")\n",
    "    print(\"\\n核心技能清单:\")\n",
    "    for i, skill in enumerate(job_key_skills, 1):\n",
    "        print(f\"  {i}. {skill}\")\n",
    "    \n",
    "    print(\"\\n岗位要求:\")\n",
    "    job_requirements = jd_dict.get('岗位要求', {})\n",
    "    for key, value in job_requirements.items():\n",
    "        if isinstance(value, list):\n",
    "            print(f\"  {key}: {', '.join(value)}\")\n",
    "        else:\n",
    "            print(f\"  {key}: {value}\")\n",
    "else:\n",
    "    print(\"使用默认JD配置\")"
   ]
  },
  {
   "cell_type": "code",
   "execution_count": null,
   "id": "cb26f2dc-525a-431d-a31d-af46641d6274",
   "metadata": {},
   "outputs": [],
   "source": []
  },
  {
   "cell_type": "code",
   "execution_count": null,
   "id": "d1252275-0613-4eb9-8d4b-c603b13c664f",
   "metadata": {},
   "outputs": [],
   "source": []
  }
 ],
 "metadata": {
  "kernelspec": {
   "display_name": "Python 3 (ipykernel)",
   "language": "python",
   "name": "python3"
  },
  "language_info": {
   "codemirror_mode": {
    "name": "ipython",
    "version": 3
   },
   "file_extension": ".py",
   "mimetype": "text/x-python",
   "name": "python",
   "nbconvert_exporter": "python",
   "pygments_lexer": "ipython3",
   "version": "3.11.13"
  }
 },
 "nbformat": 4,
 "nbformat_minor": 5
}
