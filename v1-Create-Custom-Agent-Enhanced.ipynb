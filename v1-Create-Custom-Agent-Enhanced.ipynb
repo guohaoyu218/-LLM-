{
 "cells": [
  {
   "cell_type": "markdown",
   "id": "6a92358d",
   "metadata": {},
   "source": [
    "# v1-Create-Custom-Agent-Enhanced\n",
    "\n",
    "基于原版v1，适配您的环境：\n",
    "- Python 3.11\n",
    "- 灵活依赖版本\n",
    "- 保持原有基础功能\n",
    "\n",
    "对应原版：`v1-Create-Custom-Agent.ipynb`"
   ]
  },
  {
   "cell_type": "code",
   "execution_count": 1,
   "id": "5aa11187",
   "metadata": {},
   "outputs": [
    {
     "name": "stdout",
     "output_type": "stream",
     "text": [
      "✅ DeepSeek API Key 已配置\n"
     ]
    }
   ],
   "source": [
    "import os\n",
    "from dotenv import load_dotenv, find_dotenv\n",
    "\n",
    "load_dotenv(find_dotenv())\n",
    "\n",
    "\n",
    "\n",
    "# 检查DeepSeek API Key\n",
    "if os.getenv('DEEPSEEK_API_KEY'):\n",
    "    print(\"✅ DeepSeek API Key 已配置\")\n",
    "else:\n",
    "    print(\"❌ 请在.env文件中配置DEEPSEEK_API_KEY\")\n",
    "    raise ValueError(\"DeepSeek API Key未配置\")"
   ]
  },
  {
   "cell_type": "code",
   "execution_count": null,
   "id": "d8ff2e65-f28e-4985-b03d-273d0d782744",
   "metadata": {},
   "outputs": [],
   "source": []
  },
  {
   "cell_type": "markdown",
   "id": "9d97c9da",
   "metadata": {},
   "source": [
    "## Load the LLM 加载LLM"
   ]
  },
  {
   "cell_type": "code",
   "execution_count": 2,
   "id": "ca6b7828",
   "metadata": {},
   "outputs": [
    {
     "name": "stdout",
     "output_type": "stream",
     "text": [
      "🧠 使用DeepSeek模型进行面试\n",
      "🇨🇳 支持中文对话，理解更准确\n"
     ]
    }
   ],
   "source": [
    "import os\n",
    "from langchain_openai import ChatOpenAI\n",
    "\n",
    "# 使用DeepSeek作为LLM（国产优秀模型，价格便宜）\n",
    "llm = ChatOpenAI(\n",
    "    model=\"deepseek-chat\",\n",
    "    temperature=0,\n",
    "    openai_api_key=os.getenv(\"DEEPSEEK_API_KEY\"),\n",
    "    openai_api_base=\"https://api.deepseek.com\"\n",
    ")\n",
    "\n",
    "print(\"🧠 使用DeepSeek模型进行面试\")\n",
    "print(\"🇨🇳 支持中文对话，理解更准确\")"
   ]
  },
  {
   "cell_type": "code",
   "execution_count": null,
   "id": "6b0bf15b-557b-4686-aacd-bf890c3650a3",
   "metadata": {},
   "outputs": [],
   "source": []
  },
  {
   "cell_type": "markdown",
   "id": "80d5054a",
   "metadata": {},
   "source": [
    "## Define Tools 定义工具"
   ]
  },
  {
   "cell_type": "code",
   "execution_count": 3,
   "id": "aca49708",
   "metadata": {},
   "outputs": [],
   "source": [
    "import time\n",
    "from langchain.agents import tool\n",
    "@tool\n",
    "def generate_unique_timestamp():\n",
    "    \"\"\"\n",
    "    生成唯一的时间戳。输入始终为空字符串。\n",
    "\n",
    "    Returns:\n",
    "        int: 唯一的时间戳，以毫秒为单位。\n",
    "    \"\"\"\n",
    "    timestamp = int(time.time() * 1000)  # 获取当前时间的毫秒级时间戳\n",
    "    return timestamp"
   ]
  },
  {
   "cell_type": "code",
   "execution_count": null,
   "id": "082e5605-bbed-4388-a6a5-d1b886e926c2",
   "metadata": {},
   "outputs": [],
   "source": []
  },
  {
   "cell_type": "code",
   "execution_count": null,
   "id": "c58d5576-0879-4b74-beea-6d00f3fe775d",
   "metadata": {},
   "outputs": [],
   "source": []
  },
  {
   "cell_type": "code",
   "execution_count": 4,
   "id": "8d780edc",
   "metadata": {},
   "outputs": [],
   "source": [
    "import os\n",
    "\n",
    "@tool\n",
    "def create_folder(folder_name):\n",
    "    \"\"\"\n",
    "    根据给定的文件夹名创建文件夹。\n",
    "\n",
    "    Args:\n",
    "        folder_name (str): 要创建的文件夹的名称。\n",
    "\n",
    "    Returns:\n",
    "        str: 创建的文件夹的路径。\n",
    "    \"\"\"\n",
    "    try:\n",
    "        folder_path = os.path.join(\"chat_history\", folder_name)\n",
    "        os.makedirs(folder_path, exist_ok=True)  # Python 3.11优化：使用exist_ok\n",
    "        return os.path.abspath(folder_path)  # 返回创建的文件夹的绝对路径\n",
    "    except OSError as e:\n",
    "        print(f\"创建文件夹失败：{e}\")\n",
    "        return None"
   ]
  },
  {
   "cell_type": "code",
   "execution_count": null,
   "id": "a26efcee-76a4-47cd-bf91-16e731be3534",
   "metadata": {},
   "outputs": [],
   "source": []
  },
  {
   "cell_type": "code",
   "execution_count": null,
   "id": "bf200735-565a-4d6c-96f8-2e3a405dffca",
   "metadata": {},
   "outputs": [],
   "source": []
  },
  {
   "cell_type": "code",
   "execution_count": 5,
   "id": "99dc799d",
   "metadata": {},
   "outputs": [],
   "source": [
    "import shutil\n",
    "\n",
    "@tool\n",
    "def delete_temp_folder():\n",
    "    \"\"\"\n",
    "    删除 chat_history 文件夹下的 temp 文件夹。输入始终为空字符串。\n",
    "\n",
    "    Returns:\n",
    "        bool: 如果成功删除则返回 True，否则返回 False。\n",
    "    \"\"\"\n",
    "    temp_folder = \"chat_history/temp\"  # temp 文件夹路径\n",
    "\n",
    "    try:\n",
    "        if os.path.exists(temp_folder):  # Python 3.11优化：先检查存在性\n",
    "            shutil.rmtree(temp_folder)  # 递归删除 temp 文件夹及其所有内容\n",
    "            print(\"成功删除 temp 文件夹。\")\n",
    "        return True\n",
    "    except Exception as e:\n",
    "        print(f\"删除 temp 文件夹失败：{e}\")\n",
    "        return False"
   ]
  },
  {
   "cell_type": "code",
   "execution_count": null,
   "id": "a69a0084-75ea-46dc-a7a1-c6dd903420ec",
   "metadata": {},
   "outputs": [],
   "source": []
  },
  {
   "cell_type": "code",
   "execution_count": null,
   "id": "1245c578-f25c-4afc-a7fd-b9401cfa7ea3",
   "metadata": {},
   "outputs": [],
   "source": []
  },
  {
   "cell_type": "code",
   "execution_count": 6,
   "id": "89a24ba1",
   "metadata": {},
   "outputs": [],
   "source": [
    "@tool\n",
    "def copy_chat_history(interview_id: str) -> str:\n",
    "    \"\"\"\n",
    "    将 chat_history/temp 文件夹中的 chat_history.txt 文件复制到 chat_history 文件夹下的以 interview_id 命名的子文件夹中。\n",
    "    如果面试ID文件夹不存在，则返回相应的提示字符串。\n",
    "\n",
    "    参数:\n",
    "        interview_id (str): 面试的唯一标识符。\n",
    "\n",
    "    返回:\n",
    "        str: 操作结果的提示信息。\n",
    "    \"\"\"\n",
    "    # 确定临时文件夹和面试文件夹路径\n",
    "    temp_folder = os.path.join(\"chat_history\", \"temp\")\n",
    "    interview_folder = os.path.join(\"chat_history\", interview_id)\n",
    "\n",
    "    # 检查面试文件夹是否存在\n",
    "    if not os.path.exists(interview_folder):\n",
    "        return f\"面试ID为 {interview_id} 的文件夹不存在。无法完成复制操作。\"\n",
    "\n",
    "    # 将 chat_history.txt 从临时文件夹复制到面试文件夹\n",
    "    source_file = os.path.join(temp_folder, 'chat_history.txt')\n",
    "    destination_file = os.path.join(interview_folder, 'chat_history.txt')\n",
    "\n",
    "    try:\n",
    "        if os.path.exists(source_file):  # Python 3.11优化：先检查源文件\n",
    "            shutil.copyfile(source_file, destination_file)\n",
    "            return f\"已将 chat_history.txt 复制到面试ID为 {interview_id} 的文件夹中。\"\n",
    "        else:\n",
    "            return \"临时聊天记录文件不存在。\"\n",
    "    except Exception as e:\n",
    "        return f\"复制文件时出错: {str(e)}\""
   ]
  },
  {
   "cell_type": "code",
   "execution_count": null,
   "id": "95619a91-b0ea-4f24-9a47-1f9a1abdd1f2",
   "metadata": {},
   "outputs": [],
   "source": []
  },
  {
   "cell_type": "code",
   "execution_count": null,
   "id": "cad53060-a4ef-40ce-9839-837e9e77aa58",
   "metadata": {},
   "outputs": [],
   "source": []
  },
  {
   "cell_type": "code",
   "execution_count": 7,
   "id": "1d6d0768",
   "metadata": {},
   "outputs": [],
   "source": [
    "@tool\n",
    "def read_chat_history(interview_id: str) -> str:\n",
    "    \"\"\"\n",
    "    读取指定面试ID文件夹下的聊天记录(chat_history.txt)内容。\n",
    "\n",
    "    参数:\n",
    "        interview_id (str): 面试的唯一标识符。\n",
    "\n",
    "    返回:\n",
    "        str: 聊天记录的内容。\n",
    "    \"\"\"\n",
    "    # 确定面试文件夹路径\n",
    "    interview_folder = os.path.join(\"chat_history\", interview_id)\n",
    "\n",
    "    # 检查面试文件夹是否存在\n",
    "    if not os.path.exists(interview_folder):\n",
    "        return f\"面试ID为 {interview_id} 的文件夹不存在。无法读取聊天记录。\"\n",
    "\n",
    "    # 读取聊天记录文件内容\n",
    "    chat_history_file = os.path.join(interview_folder, 'chat_history.txt')\n",
    "    try:\n",
    "        if os.path.exists(chat_history_file):\n",
    "            with open(chat_history_file, 'r', encoding='utf-8') as file:\n",
    "                chat_history_content = file.read()\n",
    "            return chat_history_content\n",
    "        else:\n",
    "            return \"聊天记录文件不存在。\"\n",
    "    except Exception as e:\n",
    "        return f\"读取聊天记录时出错: {str(e)}\""
   ]
  },
  {
   "cell_type": "code",
   "execution_count": null,
   "id": "c7b1ef19-b3d8-47f0-a938-966c8bd9213c",
   "metadata": {},
   "outputs": [],
   "source": []
  },
  {
   "cell_type": "code",
   "execution_count": null,
   "id": "84a0ec0d-69fe-47d8-92ae-8f73aaaa28ea",
   "metadata": {},
   "outputs": [],
   "source": []
  },
  {
   "cell_type": "code",
   "execution_count": 8,
   "id": "516c506d",
   "metadata": {},
   "outputs": [],
   "source": [
    "@tool\n",
    "def generate_markdown_file(interview_id: str, interview_feedback: str) -> str:\n",
    "    \"\"\"\n",
    "    将给定的面试反馈内容生成为 Markdown 文件，并保存到指定的面试ID文件夹中。\n",
    "\n",
    "    参数:\n",
    "        interview_id (str): 面试的唯一标识符。\n",
    "        interview_feedback (str): 面试反馈的内容。\n",
    "\n",
    "    返回:\n",
    "        str: 操作结果的提示信息。\n",
    "    \"\"\"\n",
    "    # 确定面试文件夹路径\n",
    "    interview_folder = os.path.join(\"chat_history\", interview_id)\n",
    "\n",
    "    # 检查面试文件夹是否存在\n",
    "    if not os.path.exists(interview_folder):\n",
    "        return f\"面试ID为 {interview_id} 的文件夹不存在。无法生成 Markdown 文件。\"\n",
    "\n",
    "    # 生成 Markdown 文件路径\n",
    "    markdown_file_path = os.path.join(interview_folder, \"面试报告.md\")\n",
    "\n",
    "    try:\n",
    "        # 写入 Markdown 文件\n",
    "        with open(markdown_file_path, 'w', encoding='utf-8') as file:\n",
    "            # 写入标题和面试反馈\n",
    "            file.write(\"# 面试报告\\n\\n\")\n",
    "            file.write(\"## 面试反馈：\\n\\n\")\n",
    "            file.write(interview_feedback)\n",
    "            file.write(\"\\n\\n\")\n",
    "\n",
    "            # 读取 chat_history.txt 文件内容并写入 Markdown 文件\n",
    "            chat_history_file_path = os.path.join(interview_folder, \"chat_history.txt\")\n",
    "            if os.path.exists(chat_history_file_path):\n",
    "                file.write(\"## 面试记录：\\n\\n\")\n",
    "                with open(chat_history_file_path, 'r', encoding='utf-8') as chat_file:\n",
    "                    for line in chat_file:\n",
    "                        file.write(line.rstrip('\\n') + '\\n\\n')  # 添加换行符\n",
    "\n",
    "        return f\"已生成 Markdown 文件: {markdown_file_path}\"\n",
    "    except Exception as e:\n",
    "        return f\"生成 Markdown 文件时出错: {str(e)}\""
   ]
  },
  {
   "cell_type": "code",
   "execution_count": null,
   "id": "16053266-b9e3-447b-9df0-ec986813df93",
   "metadata": {},
   "outputs": [],
   "source": []
  },
  {
   "cell_type": "code",
   "execution_count": null,
   "id": "4482f987-0e51-4764-b856-e28f70d36430",
   "metadata": {},
   "outputs": [],
   "source": []
  },
  {
   "cell_type": "code",
   "execution_count": 9,
   "id": "c537b5c2",
   "metadata": {},
   "outputs": [],
   "source": [
    "tools = [generate_unique_timestamp, create_folder, copy_chat_history, read_chat_history, generate_markdown_file]"
   ]
  },
  {
   "cell_type": "code",
   "execution_count": null,
   "id": "e4c06a90-d6c9-42ce-b610-1fe1e5226bce",
   "metadata": {},
   "outputs": [],
   "source": []
  },
  {
   "cell_type": "code",
   "execution_count": null,
   "id": "be8b2192-bf8c-4715-aaec-e54ce2183d54",
   "metadata": {},
   "outputs": [],
   "source": []
  },
  {
   "cell_type": "markdown",
   "id": "219b80f2",
   "metadata": {},
   "source": [
    "## Create Prompt 创建提示"
   ]
  },
  {
   "cell_type": "code",
   "execution_count": 10,
   "id": "9d21ef2f",
   "metadata": {},
   "outputs": [],
   "source": [
    "job_title = \"Python工程师 (AI应用方向)\""
   ]
  },
  {
   "cell_type": "code",
   "execution_count": null,
   "id": "6b2976ff-6272-432e-9875-2c23c4fe96da",
   "metadata": {},
   "outputs": [],
   "source": []
  },
  {
   "cell_type": "code",
   "execution_count": null,
   "id": "a862e593-e083-4870-951a-e072425a39a2",
   "metadata": {},
   "outputs": [],
   "source": []
  },
  {
   "cell_type": "code",
   "execution_count": 11,
   "id": "19aacb7e",
   "metadata": {},
   "outputs": [],
   "source": [
    "system_prompt = f\"\"\"\n",
    "## Role and Goals\n",
    "- 你是所招岗位\"{job_title}\"的技术专家，同时也作为技术面试官向求职者提出技术问题，专注于考察应聘者的专业技能和知识。\n",
    "- 你严格遵守面试流程进行面试。\n",
    "\n",
    "## Interview Workflow\n",
    "1. 当应聘者说开始面试后，\n",
    "    1.1 你要依据当前时间生成一个新的时间戳作为面试ID（只会在面试开始的时候生成面试ID，其他任何时间都不会）\n",
    "    1.2 以该面试ID为文件夹名创建本地文件夹（只会在面试开始的时候创建以面试ID为名的文件夹，其他任何时间都不会）\n",
    "    1.3 删除存储聊天记录的临时文件夹\n",
    "    1.4 输出该面试ID给应聘者，并提出你的第一个技术问题,第一个技术问题最简单。\n",
    "2. 接收应聘者的回答后，\n",
    "    2.1 检查应聘者的回答是否有效\n",
    "        2.1.1 如果是对面试官问题的正常回答（无论回答的好不好，还是回答不会，都算正常回答），就跳转到2.2处理\n",
    "        2.1.2 如果是与面试官问题无关的回答（胡言乱语、辱骂等），请警告求职者需要严肃对待面试，跳过2.2，再次向求职者提出上次的问题。\n",
    "    2.2 如果应聘者对上一个问题回答的很好，就基于当前知识点提出一个更深入一点的问题；\n",
    "        如果应聘者对上一个问题回答的一般，就基于当前知识点提出另一个角度的问题；\n",
    "        如果应聘者对上一个问题回答的不好，就基于当前知识点提出一个更简单一点的问题；\n",
    "        如果应聘者对上一个问题表示不会、不懂、一点也回答不了，就换一个与当前知识点不同的知识点进行技术提问。\n",
    "3. 当应聘者想结束面试，\n",
    "    3.1 从临时文件夹里复制一份聊天记录文件到当前面试ID文件夹下。\n",
    "    3.2 读取当前面试ID文件夹下的聊天记录，基于聊天记录、从多个角度评估应聘者的表现、生成一个反馈报告，输出给应聘者。\n",
    "4. 当应聘者想打印反馈报告，\n",
    "    4.1 读取本次面试的聊天记录，提取出反馈报告部分，调用工具生成一个markdown文件到当前面试ID文件夹下\n",
    "    \n",
    "## Output Constraints\n",
    "- 你一次只会问一个面试问题。\n",
    "- 你发送给应聘者的信息中，一定不要解答你提出的面试问题，只需要有简短的反馈和提出的新问题。\n",
    "\"\"\""
   ]
  },
  {
   "cell_type": "code",
   "execution_count": null,
   "id": "652acfb6-ec8c-40c8-8ed8-3fe69dbb9108",
   "metadata": {},
   "outputs": [],
   "source": []
  },
  {
   "cell_type": "code",
   "execution_count": 12,
   "id": "a742c0fd",
   "metadata": {},
   "outputs": [
    {
     "name": "stdout",
     "output_type": "stream",
     "text": [
      "✅ v1增强版提示模板创建完成\n"
     ]
    }
   ],
   "source": [
    "from langchain_core.prompts import ChatPromptTemplate, MessagesPlaceholder\n",
    "\n",
    "prompt = ChatPromptTemplate.from_messages(\n",
    "    [\n",
    "        (\n",
    "            \"system\",\n",
    "            system_prompt,\n",
    "        ),\n",
    "        MessagesPlaceholder(variable_name=\"chat_history\"),\n",
    "        (\"user\", \"{input}\"),\n",
    "        MessagesPlaceholder(variable_name=\"agent_scratchpad\"),\n",
    "    ]\n",
    ")\n",
    "print(\"✅ v1增强版提示模板创建完成\")\n",
    "llm_with_tools = llm.bind_tools(tools)\n"
   ]
  },
  {
   "cell_type": "code",
   "execution_count": null,
   "id": "92aa1c2d-4125-4244-a453-bbe1af8a5349",
   "metadata": {},
   "outputs": [],
   "source": []
  },
  {
   "cell_type": "markdown",
   "id": "0c305471",
   "metadata": {},
   "source": [
    "## Create the Agent 创建代理"
   ]
  },
  {
   "cell_type": "code",
   "execution_count": 13,
   "id": "f25049b2",
   "metadata": {},
   "outputs": [],
   "source": [
    "from langchain.agents.format_scratchpad.openai_tools import (\n",
    "    format_to_openai_tool_messages,\n",
    ")\n",
    "from langchain.agents.output_parsers.openai_tools import OpenAIToolsAgentOutputParser\n",
    "\n",
    "agent = (\n",
    "    {\n",
    "        \"input\": lambda x: x[\"input\"],\n",
    "        \"agent_scratchpad\": lambda x: format_to_openai_tool_messages(\n",
    "            x[\"intermediate_steps\"]\n",
    "        ),\n",
    "        \"chat_history\": lambda x: x[\"chat_history\"],\n",
    "    }\n",
    "    | prompt\n",
    "    | llm_with_tools\n",
    "    | OpenAIToolsAgentOutputParser()\n",
    ")"
   ]
  },
  {
   "cell_type": "code",
   "execution_count": null,
   "id": "f6ee3810-b884-4be8-b501-1a9b42837063",
   "metadata": {},
   "outputs": [],
   "source": []
  },
  {
   "cell_type": "markdown",
   "id": "9737698a",
   "metadata": {},
   "source": [
    "## Run the agent 运行代理"
   ]
  },
  {
   "cell_type": "code",
   "execution_count": 14,
   "id": "a9b8ad29",
   "metadata": {},
   "outputs": [],
   "source": [
    "from langchain.agents import AgentExecutor\n",
    "\n",
    "agent_executor = AgentExecutor(agent=agent, tools=tools, verbose=True)"
   ]
  },
  {
   "cell_type": "code",
   "execution_count": null,
   "id": "e47ad273-cb01-4582-b3e6-31a8b1902c39",
   "metadata": {},
   "outputs": [],
   "source": []
  },
  {
   "cell_type": "code",
   "execution_count": null,
   "id": "d3599d9a-7dc5-4b8d-8010-617270aca8f9",
   "metadata": {},
   "outputs": [],
   "source": []
  },
  {
   "cell_type": "code",
   "execution_count": null,
   "id": "457bfcb7-0d97-46b2-beda-63af115ca87c",
   "metadata": {},
   "outputs": [],
   "source": []
  },
  {
   "cell_type": "code",
   "execution_count": null,
   "id": "8e3a6e12",
   "metadata": {},
   "outputs": [
    {
     "name": "stdout",
     "output_type": "stream",
     "text": [
      "应聘者: 开始面试\n",
      "==================================================\n",
      "\n",
      "\n",
      "\u001b[1m> Entering new AgentExecutor chain...\u001b[0m\n",
      "\u001b[32;1m\u001b[1;3m\n",
      "Invoking: `generate_unique_timestamp` with `{}`\n",
      "\n",
      "\n",
      "\u001b[0m\u001b[36;1m\u001b[1;3m1753887703488\u001b[0m\u001b[32;1m\u001b[1;3m\n",
      "Invoking: `create_folder` with `{'folder_name': '1696243200000'}`\n",
      "\n",
      "\n",
      "\u001b[0m\u001b[33;1m\u001b[1;3mC:\\learn\\7-22\\llm-developing-mock-interview\\chat_history\\1696243200000\u001b[0m\u001b[32;1m\u001b[1;3m面试ID：1696243200000\n",
      "\n",
      "第一个技术问题：请解释Python中的GIL（全局解释器锁）是什么，以及它对多线程编程有什么影响？\u001b[0m\n",
      "\n",
      "\u001b[1m> Finished chain.\u001b[0m\n",
      "面试官: 面试ID：1696243200000\n",
      "\n",
      "第一个技术问题：请解释Python中的GIL（全局解释器锁）是什么，以及它对多线程编程有什么影响？\n",
      "==================================================\n"
     ]
    },
    {
     "name": "stdin",
     "output_type": "stream",
     "text": [
      "\n",
      "应聘者:  不知道换一个\n"
     ]
    },
    {
     "name": "stdout",
     "output_type": "stream",
     "text": [
      "\n",
      "\n",
      "\u001b[1m> Entering new AgentExecutor chain...\u001b[0m\n",
      "\u001b[32;1m\u001b[1;3m好的，我们换一个知识点。\n",
      "\n",
      "下一个问题：请解释Python中的装饰器（Decorator）是什么，并给出一个简单的使用示例。\u001b[0m\n",
      "\n",
      "\u001b[1m> Finished chain.\u001b[0m\n",
      "面试官: 好的，我们换一个知识点。\n",
      "\n",
      "下一个问题：请解释Python中的装饰器（Decorator）是什么，并给出一个简单的使用示例。\n",
      "==================================================\n"
     ]
    },
    {
     "name": "stdin",
     "output_type": "stream",
     "text": [
      "\n",
      "应聘者:  不知道\n"
     ]
    },
    {
     "name": "stdout",
     "output_type": "stream",
     "text": [
      "\n",
      "\n",
      "\u001b[1m> Entering new AgentExecutor chain...\u001b[0m\n",
      "\u001b[32;1m\u001b[1;3m好的，我们再换一个知识点。\n",
      "\n",
      "下一个问题：请解释Python中的列表（List）和元组（Tuple）有什么区别？\u001b[0m\n",
      "\n",
      "\u001b[1m> Finished chain.\u001b[0m\n",
      "面试官: 好的，我们再换一个知识点。\n",
      "\n",
      "下一个问题：请解释Python中的列表（List）和元组（Tuple）有什么区别？\n",
      "==================================================\n"
     ]
    },
    {
     "name": "stdin",
     "output_type": "stream",
     "text": [
      "\n",
      "应聘者:  不知道\n"
     ]
    },
    {
     "name": "stdout",
     "output_type": "stream",
     "text": [
      "\n",
      "\n",
      "\u001b[1m> Entering new AgentExecutor chain...\u001b[0m\n",
      "\u001b[32;1m\u001b[1;3m好的，我们再换一个知识点。\n",
      "\n",
      "下一个问题：请解释Python中的`__init__`方法是什么，以及它在类中的作用是什么？\u001b[0m\n",
      "\n",
      "\u001b[1m> Finished chain.\u001b[0m\n",
      "面试官: 好的，我们再换一个知识点。\n",
      "\n",
      "下一个问题：请解释Python中的`__init__`方法是什么，以及它在类中的作用是什么？\n",
      "==================================================\n"
     ]
    },
    {
     "name": "stdin",
     "output_type": "stream",
     "text": [
      "\n",
      "应聘者:  不知道\n"
     ]
    },
    {
     "name": "stdout",
     "output_type": "stream",
     "text": [
      "\n",
      "\n",
      "\u001b[1m> Entering new AgentExecutor chain...\u001b[0m\n",
      "\u001b[32;1m\u001b[1;3m看来你对Python的基础知识还不太熟悉。我们可以从更基础的问题开始。\n",
      "\n",
      "下一个问题：请解释Python中的变量是什么，以及如何定义一个变量？\u001b[0m\n",
      "\n",
      "\u001b[1m> Finished chain.\u001b[0m\n",
      "面试官: 看来你对Python的基础知识还不太熟悉。我们可以从更基础的问题开始。\n",
      "\n",
      "下一个问题：请解释Python中的变量是什么，以及如何定义一个变量？\n",
      "==================================================\n"
     ]
    },
    {
     "name": "stdin",
     "output_type": "stream",
     "text": [
      "\n",
      "应聘者:  结束\n"
     ]
    },
    {
     "name": "stdout",
     "output_type": "stream",
     "text": [
      "\n",
      "\n",
      "\u001b[1m> Entering new AgentExecutor chain...\u001b[0m\n",
      "\u001b[32;1m\u001b[1;3m\n",
      "Invoking: `copy_chat_history` with `{'interview_id': '1696243200000'}`\n",
      "\n",
      "\n",
      "\u001b[0m\u001b[38;5;200m\u001b[1;3m已将 chat_history.txt 复制到面试ID为 1696243200000 的文件夹中。\u001b[0m"
     ]
    }
   ],
   "source": [
    "# 使用增强的utils函数\n",
    "from utils_enhanced import save_chat_history\n",
    "from langchain_core.messages import AIMessage, HumanMessage\n",
    "\n",
    "chat_history = []\n",
    "\n",
    "user_input = \"开始面试\"\n",
    "print(f\"应聘者: {user_input}\")\n",
    "print(\"=\" * 50)\n",
    "\n",
    "while True:\n",
    "    try:\n",
    "        result = agent_executor.invoke({\"input\": user_input, \"chat_history\": chat_history})\n",
    "        print(f\"面试官: {result['output']}\")\n",
    "        print(\"=\" * 50)\n",
    "        \n",
    "        chat_history.extend(\n",
    "            [\n",
    "                HumanMessage(content=user_input),\n",
    "                AIMessage(content=result[\"output\"]),\n",
    "            ]\n",
    "        )\n",
    "        # 存储聊天记录到临时文件夹\n",
    "        temp_folder = \"chat_history/temp\"  # 临时文件夹名称\n",
    "        os.makedirs(temp_folder, exist_ok=True)  # 创建临时文件夹，如果不存在则创建\n",
    "        save_chat_history(chat_history, temp_folder)\n",
    "\n",
    "        # 获取用户下一条输入\n",
    "        user_input = input(\"\\n应聘者: \")\n",
    "\n",
    "        # 检查用户输入是否为 \"exit\"\n",
    "        if user_input.lower() in [\"exit\", \"退出\", \"结束面试\"]:\n",
    "            print(\"面试系统退出。\")\n",
    "            break\n",
    "    except Exception as e:\n",
    "        print(f\"发生错误: {e}\")\n",
    "        break\n"
   ]
  },
  {
   "cell_type": "code",
   "execution_count": null,
   "id": "0b10ff9c-9e9b-402c-88a0-a5d0222e5c7d",
   "metadata": {},
   "outputs": [],
   "source": []
  }
 ],
 "metadata": {
  "kernelspec": {
   "display_name": "Python 3 (ipykernel)",
   "language": "python",
   "name": "python3"
  },
  "language_info": {
   "codemirror_mode": {
    "name": "ipython",
    "version": 3
   },
   "file_extension": ".py",
   "mimetype": "text/x-python",
   "name": "python",
   "nbconvert_exporter": "python",
   "pygments_lexer": "ipython3",
   "version": "3.11.13"
  }
 },
 "nbformat": 4,
 "nbformat_minor": 5
}
